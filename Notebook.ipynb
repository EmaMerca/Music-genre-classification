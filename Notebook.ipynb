{
  "nbformat": 4,
  "nbformat_minor": 0,
  "metadata": {
    "colab": {
      "name": "mio_progetto.ipynb",
      "provenance": [],
      "collapsed_sections": [
        "j8vrx6xaQbgv",
        "4xBJKchXMDj7"
      ]
    },
    "kernelspec": {
      "display_name": "Python 3",
      "name": "python3"
    }
  },
  "cells": [
    {
      "cell_type": "markdown",
      "metadata": {
        "id": "j8vrx6xaQbgv"
      },
      "source": [
        "# initialize env "
      ]
    },
    {
      "cell_type": "code",
      "metadata": {
        "colab": {
          "base_uri": "https://localhost:8080/"
        },
        "id": "bH55VBVcJgNM",
        "outputId": "38465eac-c1c9-4c58-8d79-37da6d1b668e"
      },
      "source": [
        "%cd /content/drive/My Drive/FDS/"
      ],
      "execution_count": 23,
      "outputs": [
        {
          "output_type": "stream",
          "text": [
            "/content/drive/My Drive/FDS\n"
          ],
          "name": "stdout"
        }
      ]
    },
    {
      "cell_type": "code",
      "metadata": {
        "id": "TABCT8LdJ1e3"
      },
      "source": [
        "# import module\r\n",
        "\r\n",
        "import os\r\n",
        "import librosa, librosa.display\r\n",
        "import math\r\n",
        "import json\r\n",
        "import matplotlib.pyplot as plt\r\n",
        "import numpy as np"
      ],
      "execution_count": 24,
      "outputs": []
    },
    {
      "cell_type": "code",
      "metadata": {
        "id": "P031LzhUJ25V"
      },
      "source": [
        "# path module\r\n",
        "\r\n",
        "CURRENT_DIR = os.path.abspath(os.getcwd())\r\n",
        "DATASET_PATH = os.path.join(os.path.join(CURRENT_DIR, \"Data\"), \"genres_original\")\r\n",
        "# JSON_PATH = os.path.join(os.path.join(CURRENT_DIR, \"JSON\"), \"data.json\")\r\n",
        "JSON_PATH = './data.json'\r\n",
        "SAMPLE_PATH = os.path.join(os.path.join(DATASET_PATH,\"blues\"), \"blues.00000.wav\")"
      ],
      "execution_count": 25,
      "outputs": []
    },
    {
      "cell_type": "markdown",
      "metadata": {
        "id": "4xBJKchXMDj7"
      },
      "source": [
        "# preprocessing "
      ]
    },
    {
      "cell_type": "code",
      "metadata": {
        "id": "FIqHiSs3KW3s"
      },
      "source": [
        "SAMPLE_RATE = 22050\r\n",
        "DURATION = 30 # seconds\r\n",
        "SAMPLES_PER_TRACK = SAMPLE_RATE * DURATION\r\n",
        "\r\n",
        "def save_mfcc(dataset_path, json_path, n_mfcc=13, n_fft=2048, hop_length=512, num_segments=5):\r\n",
        "    # dictionary to store data\r\n",
        "    data = {\r\n",
        "        \"mapping\":[],\r\n",
        "        \"mfcc\":[],\r\n",
        "        \"labels\":[]\r\n",
        "    }\r\n",
        "\r\n",
        "    num_samples_per_segment = int(SAMPLES_PER_TRACK / num_segments)\r\n",
        "    expected_num_mfcc_vectors_per_segment = math.ceil(num_samples_per_segment / hop_length)\r\n",
        "\r\n",
        "    # loop through all the genres\r\n",
        "    for i, (dirpath, dirnames, filenames) in enumerate(os.walk(dataset_path)):\r\n",
        "        # ensure that we're not at the root level\r\n",
        "        if dirpath is not dataset_path:\r\n",
        "            # save the semantic label\r\n",
        "            dirpath_components = dirpath.split(\"\\\\\")\r\n",
        "            semantic_label = dirpath_components[-1]\r\n",
        "            data[\"mapping\"].append(semantic_label)\r\n",
        "            print(\"\\nProcessing {}\".format(semantic_label))\r\n",
        "\r\n",
        "            # process files for a specific genre\r\n",
        "            for file in filenames:\r\n",
        "                # load audio file\r\n",
        "                file_path = os.path.join(dirpath, file)\r\n",
        "                try:\r\n",
        "                    signal, sr = librosa.load(file_path, sr=SAMPLE_RATE)\r\n",
        "\r\n",
        "                    # process segments extracting mfcc and storing data\r\n",
        "                    for s in range(num_segments):\r\n",
        "                        start_sample = num_samples_per_segment * s\r\n",
        "                        finish_sample = start_sample + num_samples_per_segment\r\n",
        "\r\n",
        "                        mfcc = librosa.feature.mfcc(signal[start_sample:finish_sample],\r\n",
        "                                                sr=sr,\r\n",
        "                                                n_fft = n_fft,\r\n",
        "                                                n_mfcc=n_mfcc,\r\n",
        "                                                hop_length=hop_length)\r\n",
        "\r\n",
        "                        mfcc = mfcc.T\r\n",
        "\r\n",
        "                        # store mfcc for segment if it has the expected length\r\n",
        "                        if len(mfcc) == expected_num_mfcc_vectors_per_segment:\r\n",
        "                            data[\"mfcc\"].append(mfcc.tolist())\r\n",
        "                            data[\"labels\"].append(i-1)\r\n",
        "\r\n",
        "                except Exception as ex:\r\n",
        "                    print(\"An error occurred\")\r\n",
        "                    print(i)\r\n",
        "                    pass\r\n",
        "\r\n",
        "    return data\r\n",
        "\r\n"
      ],
      "execution_count": null,
      "outputs": []
    },
    {
      "cell_type": "code",
      "metadata": {
        "colab": {
          "base_uri": "https://localhost:8080/"
        },
        "id": "V8S5G_Q9Kzt8",
        "outputId": "1582830b-b4c1-4ffa-ac0e-96e1e2db8ba4"
      },
      "source": [
        "%%time\r\n",
        "data = save_mfcc(DATASET_PATH, JSON_PATH, num_segments=10)"
      ],
      "execution_count": null,
      "outputs": [
        {
          "output_type": "stream",
          "text": [
            "\n",
            "Processing /content/drive/My Drive/FDS/Data/genres_original/rock\n",
            "\n",
            "Processing /content/drive/My Drive/FDS/Data/genres_original/classical\n",
            "\n",
            "Processing /content/drive/My Drive/FDS/Data/genres_original/reggae\n",
            "\n",
            "Processing /content/drive/My Drive/FDS/Data/genres_original/blues\n",
            "\n",
            "Processing /content/drive/My Drive/FDS/Data/genres_original/metal\n",
            "\n",
            "Processing /content/drive/My Drive/FDS/Data/genres_original/disco\n",
            "\n",
            "Processing /content/drive/My Drive/FDS/Data/genres_original/pop\n",
            "\n",
            "Processing /content/drive/My Drive/FDS/Data/genres_original/country\n",
            "\n",
            "Processing /content/drive/My Drive/FDS/Data/genres_original/jazz\n",
            "An error occurred\n",
            "9\n",
            "\n",
            "Processing /content/drive/My Drive/FDS/Data/genres_original/hiphop\n",
            "CPU times: user 3min 44s, sys: 2min 56s, total: 6min 41s\n",
            "Wall time: 6min\n"
          ],
          "name": "stdout"
        }
      ]
    },
    {
      "cell_type": "code",
      "metadata": {
        "id": "pzfVFxOzhtwp"
      },
      "source": [
        " with open('./data.json', \"w\") as fp:\r\n",
        "        json.dump(data, fp, indent=4)"
      ],
      "execution_count": null,
      "outputs": []
    },
    {
      "cell_type": "code",
      "metadata": {
        "colab": {
          "base_uri": "https://localhost:8080/"
        },
        "id": "e7fsXE3eCFl8",
        "outputId": "00e5d88e-9082-4d03-b348-8a9bba526c17"
      },
      "source": [
        "\r\n",
        "# from keras import backend as K\r\n",
        "# from keras.constraints import Constraint\r\n",
        "# import matplotlib.pyplot as plt\r\n",
        "# import tensorflow.keras as keras\r\n",
        "# from sklearn.model_selection import train_test_split\r\n",
        "# from sklearn.metrics import classification_report\r\n",
        "\r\n",
        "\r\n",
        "\r\n",
        "\r\n",
        "class Sparse(Constraint):\r\n",
        "    def __init__(self, mask):\r\n",
        "        self.mask = mask  \r\n",
        "    def __call__(self,x):\r\n",
        "        return self.mask * x   \r\n",
        "    def get_config(self):\r\n",
        "        return {'mask': self.mask}\r\n",
        "\r\n",
        "a = Sparse()\r\n",
        "a(10)"
      ],
      "execution_count": 22,
      "outputs": [
        {
          "output_type": "execute_result",
          "data": {
            "text/plain": [
              "1.0"
            ]
          },
          "metadata": {
            "tags": []
          },
          "execution_count": 22
        }
      ]
    },
    {
      "cell_type": "markdown",
      "metadata": {
        "id": "HuY-rC9FMB5H"
      },
      "source": [
        "# model - aggiungi"
      ]
    },
    {
      "cell_type": "code",
      "metadata": {
        "id": "vJXvlm6AL0zu"
      },
      "source": [
        "import matplotlib.pyplot as plt\r\n",
        "import tensorflow.keras as keras\r\n",
        "from sklearn.model_selection import train_test_split\r\n",
        "from sklearn.metrics import classification_report\r\n",
        "\r\n",
        "\r\n",
        "\r\n",
        "\r\n",
        "# plot accuracy and error over the epochs\r\n",
        "def plot_history(history):\r\n",
        "    fig, axs = plt.subplots(2)\r\n",
        "\r\n",
        "    # create accuracy subplot\r\n",
        "    axs[0].plot(history.history[\"accuracy\"], label=\"Train Accuracy\")\r\n",
        "    axs[0].plot(history.history[\"val_accuracy\"], label=\"Test Accuracy\")\r\n",
        "    axs[0].set_ylabel(\"Accuracy\")\r\n",
        "    axs[0].legend(loc=\"lower right\")\r\n",
        "    # axs[0].set_title(\"Accuracy Eval\")\r\n",
        "\r\n",
        "    # create error subplot\r\n",
        "    axs[1].plot(history.history[\"loss\"], label=\"Train Error\")\r\n",
        "    axs[1].plot(history.history[\"val_loss\"], label=\"Test Error\")\r\n",
        "    axs[1].set_ylabel(\"Error\")\r\n",
        "    axs[1].set_xlabel(\"Epoch\")\r\n",
        "    axs[1].legend(loc=\"upper right\")\r\n",
        "    # axs[1].set_title(\"Error Eval\")\r\n",
        "\r\n",
        "    plt.show()\r\n",
        "\r\n",
        "\r\n",
        "# load data\r\n",
        "def load_data(dataset_path):\r\n",
        "    with open(dataset_path, \"r\") as fp:\r\n",
        "        data = json.load(fp)\r\n",
        "\r\n",
        "    # convert lists into numpy arrays\r\n",
        "    inputs = np.array(data[\"mfcc\"])\r\n",
        "    targets = np.array(data[\"labels\"])\r\n",
        "\r\n",
        "    return inputs, targets\r\n",
        "\r\n",
        "\r\n",
        "\r\n",
        "from keras import backend as K\r\n",
        "from keras.constraints import Constraint\r\n",
        "\r\n",
        "class Sparse(Constraint):\r\n",
        "    def __init__(self, mask):\r\n",
        "        self.mask = K.cast_to_floatx(mask)  \r\n",
        "    def __call__(self,x):\r\n",
        "        return self.mask * x   \r\n",
        "    def get_config(self):\r\n",
        "        return {'mask': self.mask}\r\n",
        "\r\n",
        "\r\n",
        "def keep_good_weights(model, sparsity = 30):\r\n",
        "    weights = model.get_weights()\r\n",
        "    good_weights = []\r\n",
        "    for weight in weights:\r\n",
        "        if len(weight.shape) > 1:\r\n",
        "            weight = np.abs(weight)\r\n",
        "            good_weights.append( weight > np.percentile(weight, sparsity) )\r\n",
        "    return good_weights\r\n",
        "\r\n",
        "\r\n",
        "\r\n",
        "\r\n",
        "def build_initial_MLP(inputs):\r\n",
        "    model = keras.Sequential([                          \r\n",
        "                  keras.layers.Flatten(input_shape=(inputs.shape[1], inputs.shape[2])),\r\n",
        "                  keras.layers.Dense(units = 500, \r\n",
        "                                    activation=\"relu\", \r\n",
        "                                    kernel_regularizer=keras.regularizers.l2(0.01)),\r\n",
        "                  keras.layers.Dropout(0.1),\r\n",
        "\r\n",
        "                  keras.layers.Dense( units = 400, \r\n",
        "                                    activation=\"relu\", \r\n",
        "                                    kernel_regularizer=keras.regularizers.l2(0.01)\r\n",
        "                                    ),\r\n",
        "                  keras.layers.Dropout(0.25),\r\n",
        "\r\n",
        "                  keras.layers.Dense( units = 300, \r\n",
        "                                    activation=\"relu\", \r\n",
        "                                    kernel_regularizer=keras.regularizers.l2(0.01)\r\n",
        "                                    ),\r\n",
        "                  keras.layers.Dropout(0.25),\r\n",
        "\r\n",
        "                  keras.layers.Dense(units = 200, \r\n",
        "                                    activation=\"relu\", \r\n",
        "                                    kernel_regularizer=keras.regularizers.l2(0.01)),\r\n",
        "                  keras.layers.Dropout(0.5),\r\n",
        "\r\n",
        "                  keras.layers.Dense(units = 100, \r\n",
        "                                    activation=\"relu\",\r\n",
        "                                    kernel_regularizer=keras.regularizers.l2(0.01)),\r\n",
        "                  keras.layers.Dropout(0.5),    \r\n",
        "\r\n",
        "                  keras.layers.Dense(units = 10, activation=\"softmax\")\r\n",
        "                  ])\r\n",
        "    return model \r\n",
        "  \r\n",
        "\r\n",
        "\r\n",
        "def build_sparse_MLP(inputs, sparse_weights):\r\n",
        "    model = keras.Sequential([                          \r\n",
        "                  keras.layers.Flatten( input_shape=(inputs.shape[1], inputs.shape[2])),\r\n",
        "\r\n",
        "                  keras.layers.Dense(units = 500, \r\n",
        "                                    activation = \"relu\", \r\n",
        "                                    kernel_regularizer = keras.regularizers.l2(0.01),\r\n",
        "                                    kernel_constraint = Sparse(sparse_weights[0]) \r\n",
        "                                    ),\r\n",
        "                  keras.layers.Dropout(0.1),\r\n",
        "\r\n",
        "                  keras.layers.Dense( units = 400, \r\n",
        "                                    activation=\"relu\", \r\n",
        "                                    kernel_regularizer=keras.regularizers.l2(0.01),\r\n",
        "                                    kernel_constraint = Sparse(sparse_weights[1])\r\n",
        "                                    ),\r\n",
        "                  keras.layers.Dropout(0.25),\r\n",
        "\r\n",
        "                  keras.layers.Dense( units = 300, \r\n",
        "                                    activation=\"relu\", \r\n",
        "                                    kernel_regularizer=keras.regularizers.l2(0.01),\r\n",
        "                                    kernel_constraint = Sparse(sparse_weights[2])\r\n",
        "                                    ),\r\n",
        "                  keras.layers.Dropout(0.25),\r\n",
        "\r\n",
        "                  keras.layers.Dense( units = 200, \r\n",
        "                                    activation=\"relu\", \r\n",
        "                                    kernel_regularizer=keras.regularizers.l2(0.01),\r\n",
        "                                    kernel_constraint = Sparse(sparse_weights[3])\r\n",
        "                                    ),\r\n",
        "                  keras.layers.Dropout(0.5),\r\n",
        "\r\n",
        "                  keras.layers.Dense(units = 100, \r\n",
        "                                    activation=\"relu\",\r\n",
        "                                    kernel_regularizer=keras.regularizers.l2(0.01),\r\n",
        "                                    kernel_constraint = Sparse(sparse_weights[4]) \r\n",
        "                                    ),\r\n",
        "                  keras.layers.Dropout(0.5),\r\n",
        "\r\n",
        "                  keras.layers.Dense(units = 10, activation=\"softmax\")\r\n",
        "                  ])\r\n",
        "    return model \r\n",
        "\r\n",
        "\r\n",
        "def build_final_MLP(inputs):\r\n",
        "    model = keras.Sequential([                          \r\n",
        "                  keras.layers.Flatten( input_shape=(inputs.shape[1], inputs.shape[2])),\r\n",
        "\r\n",
        "                  keras.layers.Dense(units = 500, \r\n",
        "                                    activation=\"relu\", \r\n",
        "                                    kernel_regularizer=keras.regularizers.l2(0.01)),\r\n",
        "                  keras.layers.Dropout(0.1),\r\n",
        "\r\n",
        "                  keras.layers.Dense(units = 400, \r\n",
        "                                    activation=\"relu\", \r\n",
        "                                    kernel_regularizer=keras.regularizers.l2(0.01)\r\n",
        "                                    ),\r\n",
        "                  keras.layers.Dropout(0.25),\r\n",
        "\r\n",
        "                  keras.layers.Dense(units = 300, \r\n",
        "                                    activation=\"relu\", \r\n",
        "                                    kernel_regularizer=keras.regularizers.l2(0.01)\r\n",
        "                                    ),\r\n",
        "                  keras.layers.Dropout(0.25),\r\n",
        "\r\n",
        "                  keras.layers.Dense(units = 200, \r\n",
        "                                    activation=\"relu\", \r\n",
        "                                    kernel_regularizer=keras.regularizers.l2(0.01)),\r\n",
        "                  keras.layers.Dropout(0.5),\r\n",
        "\r\n",
        "                  keras.layers.Dense(units = 100, \r\n",
        "                                    activation=\"relu\",\r\n",
        "                                    kernel_regularizer=keras.regularizers.l2(0.01)),\r\n",
        "                  keras.layers.Dropout(0.5),\r\n",
        "\r\n",
        "                  keras.layers.Dense(units = 10, activation=\"softmax\")\r\n",
        "                  ])\r\n",
        "    return model \r\n",
        "\r\n",
        "def prepare_datasets(test_size, validation_size, dataset_path):\r\n",
        "    # load data\r\n",
        "    X, y = load_data(dataset_path)\r\n",
        "    # create train/test split\r\n",
        "    X_train, X_test, y_train, y_test = train_test_split(X, y, test_size=test_size)\r\n",
        "    # create train/validation split\r\n",
        "    X_train, X_validation, y_train, y_validation = train_test_split(X_train, y_train, test_size=validation_size)\r\n",
        "    return X_train, X_validation, X_test, y_train, y_validation, y_test\r\n",
        "\r\n",
        "\r\n",
        "def get_classification_report(model, X, y):\r\n",
        "    prediction = model.predict_classes(X)\r\n",
        "    return classification_report(y_true = y, y_pred = prediction)\r\n",
        "\r\n",
        "def test_MLP(model, X_test, y_test):\r\n",
        "    test_loss, test_accuracy = model.evaluate(X_test, y_test, verbose=2)\r\n",
        "    return test_loss, test_accuracy\r\n",
        "\r\n",
        "def compile_MLP(model):\r\n",
        "    optimizer = keras.optimizers.Adam(learning_rate=0.0001)\r\n",
        "    model.compile(optimizer= optimizer,\r\n",
        "                  loss=\"sparse_categorical_crossentropy\",\r\n",
        "                  metrics=[\"accuracy\"])\r\n",
        "\r\n",
        "#learning rate is 1/10 of the initial model\r\n",
        "def compile_final_dense_MLP(model):\r\n",
        "    optimizer = keras.optimizers.Adam(learning_rate=0.00001)\r\n",
        "    model.compile(optimizer= optimizer,\r\n",
        "                  loss=\"sparse_categorical_crossentropy\",\r\n",
        "                  metrics=[\"accuracy\"])\r\n",
        "\r\n",
        "def train_MLP(model, X_train, X_validation, y_train, y_validation):\r\n",
        "    callback = keras.callbacks.EarlyStopping(monitor='val_loss',  patience=5, mode='auto')\r\n",
        "    trained_model = model.fit(X_train, \r\n",
        "                              y_train,\r\n",
        "                              validation_data = (X_validation, y_validation),\r\n",
        "                              epochs=200,\r\n",
        "                              batch_size=32,\r\n",
        "                              callbacks=[callback], \r\n",
        "                              verbose = 2)\r\n",
        "    return trained_model\r\n",
        "\r\n",
        "\r\n",
        "def initial_dense_multi_layer_perceptron(dataset_path):\r\n",
        "\r\n",
        "    X_train, X_validation, X_test, y_train, y_validation, y_test = prepare_datasets(0.25, 0.2, dataset_path)\r\n",
        "    model = build_initial_MLP(X_train)\r\n",
        "    compile_MLP(model)\r\n",
        "    history = train_MLP(model, X_train, X_validation, y_train, y_validation)\r\n",
        "    test_loss, test_accuracy = test_MLP(model, X_test, y_test)   \r\n",
        "    report = get_classification_report(model, X_test, y_test) \r\n",
        "\r\n",
        "    return history, test_loss, test_accuracy, report, model\r\n",
        "\r\n",
        "\r\n",
        "def sparse_multi_layer_perceptron(dataset_path, prev_model):\r\n",
        "\r\n",
        "    X_train, X_validation, X_test, y_train, y_validation, y_test = prepare_datasets(0.25, 0.2, dataset_path)\r\n",
        "    sparse_model = build_sparse_MLP(X_train, keep_good_weights(prev_model))\r\n",
        "    compile_MLP(sparse_model)\r\n",
        "    sparse_model.set_weights(prev_model.get_weights())\r\n",
        "    history = train_MLP(sparse_model, X_train, X_validation, y_train, y_validation)\r\n",
        "    test_loss, test_accuracy = test_MLP(sparse_model, X_test, y_test)   \r\n",
        "    report = get_classification_report(sparse_model, X_test, y_test) \r\n",
        "    \r\n",
        "    return history, test_loss, test_accuracy, report, sparse_model\r\n",
        "\r\n",
        "def final_dense_multi_layer_perceptron(dataset_path, prev_model):\r\n",
        "\r\n",
        "    X_train, X_validation, X_test, y_train, y_validation, y_test = prepare_datasets(0.25, 0.2, dataset_path)\r\n",
        "    model = build_final_MLP(X_train)\r\n",
        "    compile_final_dense_MLP(model)\r\n",
        "    model.set_weights(prev_model.get_weights())\r\n",
        "    history = train_MLP(model, X_train, X_validation, y_train, y_validation)\r\n",
        "    test_loss, test_accuracy = test_MLP(model, X_test, y_test)   \r\n",
        "    report = get_classification_report(model, X_test, y_test) \r\n",
        "    \r\n",
        "    return history, test_loss, test_accuracy, report, model\r\n"
      ],
      "execution_count": 27,
      "outputs": []
    },
    {
      "cell_type": "code",
      "metadata": {
        "id": "eubylYXEL1bF"
      },
      "source": [
        "%%time\r\n",
        "history, test_loss, test_accuracy, report, initial_dense_model = initial_dense_multi_layer_perceptron(JSON_PATH)"
      ],
      "execution_count": null,
      "outputs": []
    },
    {
      "cell_type": "code",
      "metadata": {
        "id": "unc2fkag2cSY"
      },
      "source": [
        "%%time\r\n",
        "sparse_history, sparse_test_loss, sparse_test_accuracy, sparse_report, sparse_model = sparse_multi_layer_perceptron(JSON_PATH, initial_dense_model)"
      ],
      "execution_count": null,
      "outputs": []
    },
    {
      "cell_type": "markdown",
      "metadata": {
        "id": "-IPtWmAs6SVH"
      },
      "source": [
        "final dense "
      ]
    },
    {
      "cell_type": "code",
      "metadata": {
        "id": "XFeDAyQr6Tgd"
      },
      "source": [
        "%%time\r\n",
        "final_trained_model, final_test_loss, final_test_accuracy, final_report, final_model = final_dense_multi_layer_perceptron(JSON_PATH, sparse_model)"
      ],
      "execution_count": null,
      "outputs": []
    },
    {
      "cell_type": "code",
      "metadata": {
        "colab": {
          "base_uri": "https://localhost:8080/"
        },
        "id": "HmQOjsW86TlC",
        "outputId": "f819dc99-f653-4bea-b69c-94f88437a5bf"
      },
      "source": [
        "print(\"Accuracy on test set is: {}\".format(final_test_accuracy))\r\n",
        "print(\"Loss on test set is: {}\".format(final_test_loss))\r\n",
        "print(final_report)"
      ],
      "execution_count": null,
      "outputs": [
        {
          "output_type": "stream",
          "text": [
            "Accuracy on test set is: 0.8285943269729614\n",
            "Loss on test set is: 1.238424301147461\n",
            "              precision    recall  f1-score   support\n",
            "\n",
            "           0       0.70      0.71      0.70       255\n",
            "           1       0.89      0.92      0.90       261\n",
            "           2       0.91      0.85      0.88       266\n",
            "           3       0.73      0.84      0.78       233\n",
            "           4       0.94      0.86      0.90       281\n",
            "           5       0.85      0.85      0.85       249\n",
            "           6       0.94      0.92      0.93       262\n",
            "           7       0.66      0.74      0.70       239\n",
            "           8       0.75      0.73      0.74       237\n",
            "           9       0.94      0.85      0.89       214\n",
            "\n",
            "    accuracy                           0.83      2497\n",
            "   macro avg       0.83      0.83      0.83      2497\n",
            "weighted avg       0.83      0.83      0.83      2497\n",
            "\n"
          ],
          "name": "stdout"
        }
      ]
    },
    {
      "cell_type": "code",
      "metadata": {
        "colab": {
          "base_uri": "https://localhost:8080/",
          "height": 279
        },
        "id": "m03uhnIS6Tnj",
        "outputId": "90a00059-f8d7-4ee5-82e4-c7daf88b4f33"
      },
      "source": [
        "plot_history(final_trained_model)"
      ],
      "execution_count": null,
      "outputs": [
        {
          "output_type": "display_data",
          "data": {
            "image/png": "[encoded data removed]",
            "text/plain": [
              "<Figure size 432x288 with 2 Axes>"
            ]
          },
          "metadata": {
            "tags": [],
            "needs_background": "light"
          }
        }
      ]
    }
  ]
}