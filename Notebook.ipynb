{
  "nbformat": 4,
  "nbformat_minor": 0,
  "metadata": {
    "colab": {
      "name": "complete_notebook.ipynb",
      "provenance": [],
      "collapsed_sections": [
        "tidCZc3zbKyx",
        "LZLMWy65bKy5",
        "-SRlMfifbKzK",
        "4W0uphC5bKzL",
        "IkYH7QQqbKzM",
        "PtMKnuxIbKzO",
        "3WL71_uObKzP",
        "DX2uMX-fbKzQ",
        "XE2hHl40bKzQ",
        "ha_j-Yx4bKzR",
        "-tneUVnvbKzT",
        "DOifzPNMbKzX",
        "6UNSoxfPbKzc",
        "Nalp_pNdbKze",
        "pxC7ICRzbKzi",
        "0E7AsqffbKzj",
        "PSQKhbTNbKzl",
        "lCVKnJmlbKzq",
        "RcawT__jbKzs",
        "MdLlKlKubKzt",
        "3MkYg2EqbKzw",
        "WL5XpP4YbKzz",
        "lRYVFQXtbKz2",
        "LqPWKFybbKz2",
        "J9UpdXAKbKz4",
        "kee5XsacbKz7"
      ],
      "toc_visible": true
    },
    "kernelspec": {
      "display_name": "Python 3",
      "language": "python",
      "name": "python3"
    },
    "language_info": {
      "codemirror_mode": {
        "name": "ipython",
        "version": 3
      },
      "file_extension": ".py",
      "mimetype": "text/x-python",
      "name": "python",
      "nbconvert_exporter": "python",
      "pygments_lexer": "ipython3",
      "version": "3.6.8"
    }
  },
  "cells": [
    {
      "cell_type": "markdown",
      "metadata": {
        "id": "tidCZc3zbKyx"
      },
      "source": [
        "# Music Genre Classification\n",
        "\n",
        "Final project of course: **Foundation of data science** - prof. Fabio Galasso, a.y. 2020-2021 \n",
        "\n",
        "Authors: *Chiara Chiucchi* 1645894, *Andrea Trianni*  1806198, *Emanuele Mercanti*  1719869, *Matteo Pascolini*  1693444 \n",
        "\n",
        "____________________________________________________________________________________________________________\n",
        "\n",
        "\n",
        "## 1. Understanding Audio Data\n",
        " "
      ]
    },
    {
      "cell_type": "markdown",
      "metadata": {
        "id": "LZLMWy65bKy5"
      },
      "source": [
        "### 1.1 Fourier Transform\n",
        "\n",
        "Let's take for example one of the track from our dataset.\n"
      ]
    },
    {
      "cell_type": "code",
      "metadata": {
        "id": "yef8NJ5IbKy8",
        "pycharm": {
          "is_executing": true,
          "name": "#%%\n"
        }
      },
      "source": [
        "# import module\n",
        "\n",
        "import os\n",
        "from os import listdir\n",
        "import librosa, librosa.display\n",
        "import math\n",
        "import json\n",
        "import pandas\n",
        "import matplotlib.pyplot as plt\n",
        "import numpy as np\n",
        "from sklearn.model_selection import train_test_split, KFold\n",
        "from sklearn.metrics import classification_report, confusion_matrix\n",
        "import scikitplot as skplt\n",
        "import tensorflow.keras as keras\n",
        "from keras import backend as K\n",
        "from keras.constraints import Constraint\n",
        "# import youtube_dl\n",
        "# from pydub import AudioSegment\n",
        "import seaborn as sns\n"
      ],
      "execution_count": null,
      "outputs": []
    },
    {
      "cell_type": "code",
      "metadata": {
        "id": "IwFoWCIpVWUr"
      },
      "source": [
        "# !pip install scikit-plot\r\n",
        "import scikitplot as skplt\r\n"
      ],
      "execution_count": null,
      "outputs": []
    },
    {
      "cell_type": "code",
      "metadata": {
        "id": "z44onV5lbKy_",
        "pycharm": {
          "is_executing": true,
          "name": "#%%\n"
        },
        "colab": {
          "base_uri": "https://localhost:8080/"
        },
        "outputId": "8ab9c015-baef-4f69-b651-29c8e1cc76e7"
      },
      "source": [
        "# path module\n",
        "\n",
        "%cd /content/drive/My Drive/FDS/\n",
        "CURRENT_DIR = os.path.abspath(os.getcwd())\n",
        "# GTZAN_DATASET_PATH = os.path.join(os.path.join(CURRENT_DIR, \"GTZAN_Dataset\"), \"genres_original\")\n",
        "# PERSONAL_DATASET_PATH = os.path.join(CURRENT_DIR, \"PERSONAL_Dataset\")\n",
        "# GTZAN_DATASET_CLEAN_PATH = os.path.join(os.path.join(CURRENT_DIR, \"GTZAN_Dataset_Clean\"), \"genres_original\")\n",
        "\n",
        "GTZAN_JSON_PATH = os.path.join(os.path.join(CURRENT_DIR, \"Data\"), \"GTZAN_Dataset.json\")\n",
        "GTZAN_CLEAN_JSON_PATH = os.path.join(os.path.join(CURRENT_DIR, \"Data\"), \"GTZAN_Dataset_Clean.json\")\n",
        "PERSONAL_JSON_PATH = os.path.join(os.path.join(CURRENT_DIR, \"Data\"), \"PERSONAL_Dataset.json\")\n",
        "\n",
        "\n",
        "# SAMPLE_PATH = os.path.join(os.path.join(GTZAN_DATASET_PATH,\"blues\"), \"blues.00000.wav\")"
      ],
      "execution_count": null,
      "outputs": [
        {
          "output_type": "stream",
          "text": [
            "/content/drive/My Drive/FDS\n"
          ],
          "name": "stdout"
        }
      ]
    },
    {
      "cell_type": "code",
      "metadata": {
        "id": "qjPHUimObKzC",
        "pycharm": {
          "name": "#%%\n"
        }
      },
      "source": [
        "def plot_waveform(file):\n",
        "    # signal: numpy array with # values = sr * T -> 22050 * 30 seconds\n",
        "    signal, sr = librosa.load(file, sr=22050) # standard sample rate\n",
        "    librosa.display.waveplot(signal, sr=sr)\n",
        "    \n",
        "    plt.xlabel(\"Time\")\n",
        "    plt.ylabel(\"Amplitude\")\n",
        "    plt.show() \n",
        "    \n",
        "    return signal, sr"
      ],
      "execution_count": null,
      "outputs": []
    },
    {
      "cell_type": "markdown",
      "metadata": {
        "id": "2SG1R7AAbKzE"
      },
      "source": [
        "And let's plot its **waveform**."
      ]
    },
    {
      "cell_type": "code",
      "metadata": {
        "id": "LK210_vqbKzF",
        "pycharm": {
          "name": "#%%\n"
        }
      },
      "source": [
        "signal, sr = plot_waveform(SAMPLE_PATH)"
      ],
      "execution_count": null,
      "outputs": []
    },
    {
      "cell_type": "markdown",
      "metadata": {
        "id": "tm5PC0JgbKzF"
      },
      "source": [
        "Applying a Fourier Transform we obtain a **Power Spectrum** that gives as the magnitude (power) as a function of the frequency. Let's consider previous samples:"
      ]
    },
    {
      "cell_type": "code",
      "metadata": {
        "id": "cLrdKLqGbKzF",
        "pycharm": {
          "name": "#%%\n"
        }
      },
      "source": [
        "def plot_FFT(signal, sr):\n",
        "    fft = np.fft.fft(signal)\n",
        "    \n",
        "    magnitude = np.abs(fft)\n",
        "    frequency = np.linspace(0, sr, len(magnitude))\n",
        "    \n",
        "    left_frequency = frequency[:int(len(frequency)/2)]\n",
        "    left_magnitude = magnitude[:int(len(magnitude)/2)]\n",
        "    \n",
        "    plt.plot(left_frequency, left_magnitude)\n",
        "    plt.xlabel(\"Frequency\")\n",
        "    plt.ylabel(\"Magnitude\")\n",
        "    plt.show() "
      ],
      "execution_count": null,
      "outputs": []
    },
    {
      "cell_type": "markdown",
      "metadata": {
        "id": "6mDZaGBlbKzG"
      },
      "source": [
        "And let's plot is **Fast Fourier Transform**:"
      ]
    },
    {
      "cell_type": "code",
      "metadata": {
        "id": "xZTup-D4bKzH",
        "pycharm": {
          "name": "#%%\n"
        }
      },
      "source": [
        "plot_FFT(signal, sr)"
      ],
      "execution_count": null,
      "outputs": []
    },
    {
      "cell_type": "markdown",
      "metadata": {
        "id": "3zwOedxlbKzJ"
      },
      "source": [
        "### 1.2 Short Time Fourier Transform (STFT)\n",
        "\n",
        "Gives us a **spectrogram** which represents the magnitude as a function of both frequency and time. "
      ]
    },
    {
      "cell_type": "code",
      "metadata": {
        "id": "LdwuEVwKbKzJ",
        "pycharm": {
          "name": "#%%\n"
        }
      },
      "source": [
        "def plot_STFT(signal, sr):\n",
        "    n_fft = 2048\n",
        "    hop_length = 512 # amount we are shifting each FFT to the right\n",
        "    \n",
        "    stft = librosa.core.stft(signal, hop_length=hop_length, n_fft=n_fft)\n",
        "    spectrogram = np.abs(stft)\n",
        "    # for visualization purpose (to decibel)\n",
        "    log_spectrogram = librosa.amplitude_to_db(spectrogram)    \n",
        "    \n",
        "    librosa.display.specshow(log_spectrogram, sr=sr, hop_length=hop_length)\n",
        "    plt.xlabel(\"Time\")\n",
        "    plt.ylabel(\"Frequency\")\n",
        "    plt.colorbar()\n",
        "    plt.show()\n",
        "    \n",
        "    return n_fft, hop_length\n",
        "    "
      ],
      "execution_count": null,
      "outputs": []
    },
    {
      "cell_type": "code",
      "metadata": {
        "id": "rbnm7ZbrbKzK",
        "pycharm": {
          "name": "#%%\n"
        }
      },
      "source": [
        "n_fft, hop_length = plot_STFT(signal, sr)"
      ],
      "execution_count": null,
      "outputs": []
    },
    {
      "cell_type": "markdown",
      "metadata": {
        "id": "RwOe-xb_bKzK"
      },
      "source": [
        "There exists another feature that is more important and detailed than STFT."
      ]
    },
    {
      "cell_type": "markdown",
      "metadata": {
        "id": "-SRlMfifbKzK"
      },
      "source": [
        "### 1.3 Mel Frequency Cepstral Coefficients (MFCCs)\n",
        "\n",
        " MFCC is a vector of **coefficients**: usually in audio application the number varies from 13 to 40 coefficients. These coefficients are calculated at each frame, so that we can have an idea of how MFCCs evolve over time. "
      ]
    },
    {
      "cell_type": "code",
      "metadata": {
        "id": "Y-v-nXFpbKzK",
        "pycharm": {
          "name": "#%%\n"
        }
      },
      "source": [
        "def plot_MFCCs(signal, n_fft, hop_length):\n",
        "    MFCCs = librosa.feature.mfcc(signal, n_fft = n_fft, hop_length = hop_length, n_mfcc=13)\n",
        "    librosa.display.specshow(MFCCs, sr=sr, hop_length=hop_length)\n",
        "    plt.xlabel(\"Time\")\n",
        "    plt.ylabel(\"MFCC\")\n",
        "    plt.colorbar()\n",
        "    plt.show()"
      ],
      "execution_count": null,
      "outputs": []
    },
    {
      "cell_type": "code",
      "metadata": {
        "id": "KXxBtwMGbKzK",
        "pycharm": {
          "name": "#%%\n"
        }
      },
      "source": [
        "plot_MFCCs(signal, n_fft, hop_length)"
      ],
      "execution_count": null,
      "outputs": []
    },
    {
      "cell_type": "markdown",
      "metadata": {
        "id": "YKoSR2VWbKzL"
      },
      "source": [
        "_________________________________________________________________________________________________________________\n",
        "\n",
        "## 2. Preparing the Datasets"
      ]
    },
    {
      "cell_type": "markdown",
      "metadata": {
        "id": "4W0uphC5bKzL"
      },
      "source": [
        "### 2.1  Building our  personal dataset\n",
        "\n",
        "Now, let's build our dataset to train the networks and create the models. Indeed, in addition to the GTZAN dataset for music classification, we will try to collect data ourselves, and then going to perform the entire data preprocessing phase, analyzing the dataset and balancing it.\n",
        "\n",
        "Our approach to data collection is to create a playlist on youtube for each genre considered. Then a formatted text file is created, which collects all the web links to the video resources. This file is therefore like a small database that is used by the code script to find the necessary data.\n",
        "\n",
        "\n",
        "### 2.1.1 Retrieve the raw data\n",
        "\n",
        "Each song is downloaded in video format, then converted to audio format. The latter has a fixed length which is decided by a hyper-parameter of the script; the fragment is taken from the center of the initial length.\n",
        "To perform this conversion you need to install * ffmpeg * and set the environment variables, for more details refer to the official website. The following statements can also be written that the command:\n",
        "\n",
        "\"ffmpeg -i path_to_video -acodec pcm_s16le -ac 1 -ar 22050 -vn new_filename+\".wav\""
      ]
    },
    {
      "cell_type": "code",
      "metadata": {
        "id": "-T4x886lbKzL",
        "pycharm": {
          "name": "#%%\n"
        }
      },
      "source": [
        "DATABASE_FILENAME = \"link_database.txt\" \n",
        "DURATION = 30 "
      ],
      "execution_count": null,
      "outputs": []
    },
    {
      "cell_type": "code",
      "metadata": {
        "id": "N0Pl5-o1bKzM",
        "pycharm": {
          "name": "#%%\n"
        }
      },
      "source": [
        "# !! ATTENTION : executing this part can take a long time, and you don't need to do it.\n",
        "\n",
        "# Open the txt file with the links\n",
        "with open(os.path.join(PERSONAL_DATASET_PATH, DATABASE_FILENAME)) as f:\n",
        "    lines = f.read().splitlines()\n",
        "\n",
        "# For stats and plot only\n",
        "length = []\n",
        "sizes = {}\n",
        "\n",
        "for line in lines:\n",
        "    \n",
        "    genre, link = line.split(\" *** \")\n",
        "    genre_path = PERSONAL_DATASET_PATH+\"/\"+str(DURATION)+\"/\"+ genre\n",
        "    ydl_opts = {'outtmpl': genre_path + '/%(autonumber)s.%(ext)s', 'format': 'bestaudio/worstvideo','quiet': True}\n",
        "    \n",
        "    # Download playlist for each genre\n",
        "    with youtube_dl.YoutubeDL(ydl_opts) as ydl:\n",
        "        \n",
        "        print(\"Downloading song of genre: \"+genre)\n",
        "        ydl.download([link])\n",
        "        videos = [f for f in listdir(genre_path)]\n",
        "        sizes[genre] = len(videos)\n",
        "        \n",
        "        # Convert in audio, cut the lenght, and compress\n",
        "        for video in videos:\n",
        "            \n",
        "            audio = AudioSegment.from_file(genre_path + \"/\" + video)\n",
        "            length += [len(audio)//1000]\n",
        "            \n",
        "            if len(audio) > DURATION*1000:\n",
        "                half = len(audio)//2\n",
        "                audio = audio[half-(DURATION*500) : half+(DURATION*500)]\n",
        "                audio.export( genre_path + \"/\" + video.split(\".\")[0] + \".wav\", format=\"wav\", parameters=[\"-ac\", \"1\", \"-ar\", \"22050\", \"-acodec\", \"pcm_s16le\"])\n",
        "            \n",
        "            os.remove(genre_path+\"/\"+video)\n",
        "\n",
        "# Store the stats for future plots\n",
        "with open(PERSONAL_DATASET_PATH+\"/\"+str(DURATION)+\"/\"+str(DURATION)+\"_plotinfo.json\", \"w\") as fp:\n",
        "    json.dump({\"length\": length, \"sizes\": sizes}, fp)\n"
      ],
      "execution_count": null,
      "outputs": []
    },
    {
      "cell_type": "markdown",
      "metadata": {
        "id": "IkYH7QQqbKzM"
      },
      "source": [
        "### 2.1.2 Visualize the collected data\n",
        "\n",
        "Visualizing the collected data is very important, so we will now show two very important plots: the first concerns the size of the classes, the second the duration of the songs."
      ]
    },
    {
      "cell_type": "code",
      "metadata": {
        "id": "mzWS-_i5bKzM",
        "pycharm": {
          "name": "#%%\n"
        },
        "outputId": "00110f6d-ee69-4af2-b5bd-107e20790590"
      },
      "source": [
        "def size_bar_plot (classes,sizes):\n",
        "    for genre in classes:\n",
        "        plt.bar(classes, sizes, 0.50)\n",
        "\n",
        "    plt.gcf().set_size_inches(15,5)\n",
        "    plt.ylabel(\"Number of songs\")\n",
        "    plt.xlabel(\"Music Genre\")\n",
        "    plt.title(\"Dataset dimension\")\n",
        "\n",
        "    plt.show()\n",
        "    plt.cla(); plt.clf();\n",
        "\n",
        "\n",
        "with open(PERSONAL_DATASET_PATH+\"/\"+str(DURATION)+\"/\"+str(DURATION)+\"_plotinfo.json\", \"r\") as fp:\n",
        "    content = json.load(fp)\n",
        "\n",
        "size_bar_plot (content[\"sizes\"].keys(),content[\"sizes\"].values())"
      ],
      "execution_count": null,
      "outputs": [
        {
          "output_type": "display_data",
          "data": {
            "image/png": "[encoded data removed]",
            "text/plain": [
              "<Figure size 1080x360 with 1 Axes>"
            ]
          },
          "metadata": {
            "tags": [],
            "needs_background": "light"
          }
        },
        {
          "output_type": "display_data",
          "data": {
            "text/plain": [
              "<Figure size 432x288 with 0 Axes>"
            ]
          },
          "metadata": {
            "tags": []
          }
        }
      ]
    },
    {
      "cell_type": "code",
      "metadata": {
        "id": "kkq3aNr7bKzN",
        "pycharm": {
          "name": "#%%\n"
        },
        "outputId": "d695d97b-0069-40ad-d379-50a3f226d8b2"
      },
      "source": [
        "with open(PERSONAL_DATASET_PATH+\"/\"+str(DURATION)+\"/\"+str(DURATION)+\"_plotinfo.json\", \"r\") as fp:\n",
        "    content = json.load(fp)\n",
        "    \n",
        "plt.gcf().set_size_inches(8,5)\n",
        "sns.distplot(content[\"length\"], color=\"grey\")\n",
        "plt.xlim([0, 800]);\n",
        "plt.xlabel('Seconds')\n",
        "plt.ylabel('Percentage')\n",
        "plt.title(\"Songs duration\")\n",
        "plt.show()\n",
        "plt.cla(); plt.clf();"
      ],
      "execution_count": null,
      "outputs": [
        {
          "output_type": "stream",
          "text": [
            "c:\\users\\chiar\\appdata\\local\\programs\\python\\python36\\lib\\site-packages\\seaborn\\distributions.py:2551: FutureWarning: `distplot` is a deprecated function and will be removed in a future version. Please adapt your code to use either `displot` (a figure-level function with similar flexibility) or `histplot` (an axes-level function for histograms).\n",
            "  warnings.warn(msg, FutureWarning)\n"
          ],
          "name": "stderr"
        },
        {
          "output_type": "display_data",
          "data": {
            "image/png": "[encoded data removed]",
            "text/plain": [
              "<Figure size 576x360 with 1 Axes>"
            ]
          },
          "metadata": {
            "tags": [],
            "needs_background": "light"
          }
        },
        {
          "output_type": "display_data",
          "data": {
            "text/plain": [
              "<Figure size 432x288 with 0 Axes>"
            ]
          },
          "metadata": {
            "tags": []
          }
        }
      ]
    },
    {
      "cell_type": "markdown",
      "metadata": {
        "id": "PtMKnuxIbKzO"
      },
      "source": [
        "### 2.1.3 Balancing the dataset : remove tiny classes\n",
        "\n",
        "For of all we delete the classes that are less representative."
      ]
    },
    {
      "cell_type": "code",
      "metadata": {
        "id": "dEEnLb1zbKzO",
        "pycharm": {
          "name": "#%%\n"
        },
        "outputId": "c82fedfc-f2e8-4f9b-9bc9-7664d1b4a3b1"
      },
      "source": [
        "# elimino le classi troppo scarse\n",
        "\n",
        "with open(PERSONAL_DATASET_PATH+\"/\"+str(DURATION)+\"/\"+str(DURATION)+\"_plotinfo.json\", \"r\") as fp:\n",
        "    content = json.load(fp)\n",
        "\n",
        "if len(content[\"sizes\"].items()) > 10:\n",
        "    rem_ordered = sorted(content[\"sizes\"].items(), key=lambda x: x[1])\n",
        "    rem_ordered = [i[0] for i in rem_ordered][:2]\n",
        "    for rem in rem_ordered:\n",
        "        for file in listdir(PERSONAL_DATASET_PATH+\"/\"+str(DURATION)+\"/\"+rem):\n",
        "            os.remove(PERSONAL_DATASET_PATH+\"/\"+str(DURATION)+\"/\"+rem+\"/\"+file)\n",
        "        os.rmdir(PERSONAL_DATASET_PATH+\"/\"+str(DURATION)+\"/\"+rem)"
      ],
      "execution_count": null,
      "outputs": [
        {
          "output_type": "error",
          "ename": "FileNotFoundError",
          "evalue": "[WinError 3] Impossibile trovare il percorso specificato: 'C:\\\\Users\\\\chiar\\\\Desktop\\\\FDS_PROG\\\\PERSONAL_Dataset/30/Raggae'",
          "traceback": [
            "\u001b[1;31m---------------------------------------------------------------------------\u001b[0m",
            "\u001b[1;31mFileNotFoundError\u001b[0m                         Traceback (most recent call last)",
            "\u001b[1;32m<ipython-input-41-8cf6d972c7e0>\u001b[0m in \u001b[0;36m<module>\u001b[1;34m\u001b[0m\n\u001b[0;32m      8\u001b[0m     \u001b[0mrem_ordered\u001b[0m \u001b[1;33m=\u001b[0m \u001b[1;33m[\u001b[0m\u001b[0mi\u001b[0m\u001b[1;33m[\u001b[0m\u001b[1;36m0\u001b[0m\u001b[1;33m]\u001b[0m \u001b[1;32mfor\u001b[0m \u001b[0mi\u001b[0m \u001b[1;32min\u001b[0m \u001b[0mrem_ordered\u001b[0m\u001b[1;33m]\u001b[0m\u001b[1;33m[\u001b[0m\u001b[1;33m:\u001b[0m\u001b[1;36m2\u001b[0m\u001b[1;33m]\u001b[0m\u001b[1;33m\u001b[0m\u001b[1;33m\u001b[0m\u001b[0m\n\u001b[0;32m      9\u001b[0m     \u001b[1;32mfor\u001b[0m \u001b[0mrem\u001b[0m \u001b[1;32min\u001b[0m \u001b[0mrem_ordered\u001b[0m\u001b[1;33m:\u001b[0m\u001b[1;33m\u001b[0m\u001b[1;33m\u001b[0m\u001b[0m\n\u001b[1;32m---> 10\u001b[1;33m         \u001b[1;32mfor\u001b[0m \u001b[0mfile\u001b[0m \u001b[1;32min\u001b[0m \u001b[0mlistdir\u001b[0m\u001b[1;33m(\u001b[0m\u001b[0mPERSONAL_DATASET_PATH\u001b[0m\u001b[1;33m+\u001b[0m\u001b[1;34m\"/\"\u001b[0m\u001b[1;33m+\u001b[0m\u001b[0mstr\u001b[0m\u001b[1;33m(\u001b[0m\u001b[0mDURATION\u001b[0m\u001b[1;33m)\u001b[0m\u001b[1;33m+\u001b[0m\u001b[1;34m\"/\"\u001b[0m\u001b[1;33m+\u001b[0m\u001b[0mrem\u001b[0m\u001b[1;33m)\u001b[0m\u001b[1;33m:\u001b[0m\u001b[1;33m\u001b[0m\u001b[1;33m\u001b[0m\u001b[0m\n\u001b[0m\u001b[0;32m     11\u001b[0m             \u001b[0mos\u001b[0m\u001b[1;33m.\u001b[0m\u001b[0mremove\u001b[0m\u001b[1;33m(\u001b[0m\u001b[0mPERSONAL_DATASET_PATH\u001b[0m\u001b[1;33m+\u001b[0m\u001b[1;34m\"/\"\u001b[0m\u001b[1;33m+\u001b[0m\u001b[0mstr\u001b[0m\u001b[1;33m(\u001b[0m\u001b[0mDURATION\u001b[0m\u001b[1;33m)\u001b[0m\u001b[1;33m+\u001b[0m\u001b[1;34m\"/\"\u001b[0m\u001b[1;33m+\u001b[0m\u001b[0mrem\u001b[0m\u001b[1;33m+\u001b[0m\u001b[1;34m\"/\"\u001b[0m\u001b[1;33m+\u001b[0m\u001b[0mfile\u001b[0m\u001b[1;33m)\u001b[0m\u001b[1;33m\u001b[0m\u001b[1;33m\u001b[0m\u001b[0m\n\u001b[0;32m     12\u001b[0m         \u001b[0mos\u001b[0m\u001b[1;33m.\u001b[0m\u001b[0mrmdir\u001b[0m\u001b[1;33m(\u001b[0m\u001b[0mPERSONAL_DATASET_PATH\u001b[0m\u001b[1;33m+\u001b[0m\u001b[1;34m\"/\"\u001b[0m\u001b[1;33m+\u001b[0m\u001b[0mstr\u001b[0m\u001b[1;33m(\u001b[0m\u001b[0mDURATION\u001b[0m\u001b[1;33m)\u001b[0m\u001b[1;33m+\u001b[0m\u001b[1;34m\"/\"\u001b[0m\u001b[1;33m+\u001b[0m\u001b[0mrem\u001b[0m\u001b[1;33m)\u001b[0m\u001b[1;33m\u001b[0m\u001b[1;33m\u001b[0m\u001b[0m\n",
            "\u001b[1;31mFileNotFoundError\u001b[0m: [WinError 3] Impossibile trovare il percorso specificato: 'C:\\\\Users\\\\chiar\\\\Desktop\\\\FDS_PROG\\\\PERSONAL_Dataset/30/Raggae'"
          ]
        }
      ]
    },
    {
      "cell_type": "markdown",
      "metadata": {
        "id": "3WL71_uObKzP"
      },
      "source": [
        "### 2.1.4 Balancing the dataset : undersampling huge classes"
      ]
    },
    {
      "cell_type": "code",
      "metadata": {
        "id": "_tqkOJc3bKzP",
        "pycharm": {
          "name": "#%%\n"
        },
        "outputId": "53b77f18-0151-4a1a-c0a6-291e53f2cf3e"
      },
      "source": [
        "CLASS_MAX_SIZE=100;\n",
        "\n",
        "genres = next(os.walk(PERSONAL_DATASET_PATH+\"/\"+str(DURATION)))[1]\n",
        "\n",
        "for genre in genres:\n",
        "    genre_path = PERSONAL_DATASET_PATH+\"/\"+str(DURATION)+\"/\"+genre\n",
        "    print(\"Processing: \"+ genre_path)\n",
        "    count=0\n",
        "    for song in listdir(genre_path):\n",
        "        if count>=100: \n",
        "            os.remove(genre_path+\"/\"+song)\n",
        "        count+=1\n",
        "\n",
        "sizes   = [len(listdir(PERSONAL_DATASET_PATH+\"/\"+str(DURATION)+\"/\"+genre)) for genre in genres]\n",
        "size_bar_plot (genres,sizes)"
      ],
      "execution_count": null,
      "outputs": [
        {
          "output_type": "stream",
          "text": [
            "Processing: C:\\Users\\chiar\\Desktop\\FDS_PROG\\PERSONAL_Dataset/30/Ambient\n",
            "Processing: C:\\Users\\chiar\\Desktop\\FDS_PROG\\PERSONAL_Dataset/30/Cinematic\n",
            "Processing: C:\\Users\\chiar\\Desktop\\FDS_PROG\\PERSONAL_Dataset/30/Classical\n",
            "Processing: C:\\Users\\chiar\\Desktop\\FDS_PROG\\PERSONAL_Dataset/30/Dance\n",
            "Processing: C:\\Users\\chiar\\Desktop\\FDS_PROG\\PERSONAL_Dataset/30/Folk\n",
            "Processing: C:\\Users\\chiar\\Desktop\\FDS_PROG\\PERSONAL_Dataset/30/HipHop\n",
            "Processing: C:\\Users\\chiar\\Desktop\\FDS_PROG\\PERSONAL_Dataset/30/Holiday\n",
            "Processing: C:\\Users\\chiar\\Desktop\\FDS_PROG\\PERSONAL_Dataset/30/Jazz\n",
            "Processing: C:\\Users\\chiar\\Desktop\\FDS_PROG\\PERSONAL_Dataset/30/Pop\n",
            "Processing: C:\\Users\\chiar\\Desktop\\FDS_PROG\\PERSONAL_Dataset/30/Soul\n"
          ],
          "name": "stdout"
        },
        {
          "output_type": "error",
          "ename": "NameError",
          "evalue": "name 'size_bar_plot' is not defined",
          "traceback": [
            "\u001b[1;31m---------------------------------------------------------------------------\u001b[0m",
            "\u001b[1;31mNameError\u001b[0m                                 Traceback (most recent call last)",
            "\u001b[1;32m<ipython-input-38-4cb013b508d9>\u001b[0m in \u001b[0;36m<module>\u001b[1;34m\u001b[0m\n\u001b[0;32m     14\u001b[0m \u001b[0msizes\u001b[0m   \u001b[1;33m=\u001b[0m \u001b[1;33m[\u001b[0m\u001b[0mlen\u001b[0m\u001b[1;33m(\u001b[0m\u001b[0mlistdir\u001b[0m\u001b[1;33m(\u001b[0m\u001b[0mPERSONAL_DATASET_PATH\u001b[0m\u001b[1;33m+\u001b[0m\u001b[1;34m\"/\"\u001b[0m\u001b[1;33m+\u001b[0m\u001b[0mstr\u001b[0m\u001b[1;33m(\u001b[0m\u001b[0mDURATION\u001b[0m\u001b[1;33m)\u001b[0m\u001b[1;33m+\u001b[0m\u001b[1;34m\"/\"\u001b[0m\u001b[1;33m+\u001b[0m\u001b[0mgenre\u001b[0m\u001b[1;33m)\u001b[0m\u001b[1;33m)\u001b[0m \u001b[1;32mfor\u001b[0m \u001b[0mgenre\u001b[0m \u001b[1;32min\u001b[0m \u001b[0mgenres\u001b[0m\u001b[1;33m]\u001b[0m\u001b[1;33m\u001b[0m\u001b[1;33m\u001b[0m\u001b[0m\n\u001b[0;32m     15\u001b[0m \u001b[1;33m\u001b[0m\u001b[0m\n\u001b[1;32m---> 16\u001b[1;33m \u001b[0msize_bar_plot\u001b[0m \u001b[1;33m(\u001b[0m\u001b[0mgenres\u001b[0m\u001b[1;33m,\u001b[0m\u001b[0msizes\u001b[0m\u001b[1;33m)\u001b[0m\u001b[1;33m\u001b[0m\u001b[1;33m\u001b[0m\u001b[0m\n\u001b[0m",
            "\u001b[1;31mNameError\u001b[0m: name 'size_bar_plot' is not defined"
          ]
        }
      ]
    },
    {
      "cell_type": "markdown",
      "metadata": {
        "id": "DX2uMX-fbKzQ"
      },
      "source": [
        "### 2.1.5 Balancing the dataset : use weighted loss\n"
      ]
    },
    {
      "cell_type": "code",
      "metadata": {
        "id": "jcttpzLjbKzQ",
        "pycharm": {
          "name": "#%%\n"
        },
        "outputId": "21f6430a-bc61-480f-a064-e3d114186b00"
      },
      "source": [
        "genres = next(os.walk(PERSONAL_DATASET_PATH+\"/\"+str(DURATION)))[1]\n",
        "sizes   = [len(listdir(PERSONAL_DATASET_PATH+\"/\"+str(DURATION)+\"/\"+genre)) for genre in genres]\n",
        "total_count = sum (sizes)\n",
        "class_weights= {}\n",
        "\n",
        "key=0\n",
        "for size in sizes:\n",
        "    class_weights[key] = (1 / size) * (total_count) / 10.0\n",
        "    key+=1\n",
        "\n",
        "print(class_weights)"
      ],
      "execution_count": null,
      "outputs": [
        {
          "output_type": "stream",
          "text": [
            "{0: 0.9119565217391304, 1: 0.8390000000000001, 2: 1.2159420289855072, 3: 0.8390000000000001, 4: 1.1493150684931508, 5: 0.8390000000000001, 6: 1.6450980392156862, 7: 1.1985714285714286, 8: 0.8390000000000001, 9: 0.9988095238095237}\n"
          ],
          "name": "stdout"
        }
      ]
    },
    {
      "cell_type": "markdown",
      "metadata": {
        "id": "XE2hHl40bKzQ"
      },
      "source": [
        "### 2.2 The GTZAN Dataset\n",
        "\n",
        "Scrivere qualche parola qui ..."
      ]
    },
    {
      "cell_type": "markdown",
      "metadata": {
        "id": "ha_j-Yx4bKzR"
      },
      "source": [
        "### 2.3 Use the datasets\n",
        "\n",
        "Now there is the part of the code that reads the data from the hard disk and prepares it for the model."
      ]
    },
    {
      "cell_type": "code",
      "metadata": {
        "id": "PgbmZLBXbKzR",
        "pycharm": {
          "name": "#%%\n"
        }
      },
      "source": [
        "SAMPLE_RATE = 22050\n",
        "DURATION = 30 # seconds\n",
        "SAMPLES_PER_TRACK = SAMPLE_RATE * DURATION\n",
        "\n",
        "def save_mfcc(dataset_path, json_path, n_mfcc=13, n_fft=2048, hop_length=512, num_segments=5):\n",
        "    # dictionary to store data\n",
        "    data = {\n",
        "        \"mapping\":[],\n",
        "        \"mfcc\":[],\n",
        "        \"labels\":[]\n",
        "    }\n",
        "\n",
        "    num_samples_per_segment = int(SAMPLES_PER_TRACK / num_segments)\n",
        "    expected_num_mfcc_vectors_per_segment = math.ceil(num_samples_per_segment / hop_length)\n",
        "\n",
        "    # loop through all the genres\n",
        "\n",
        "    for i, (dirpath, dirnames, filenames) in enumerate(os.walk(dataset_path)):\n",
        "        # ensure that we're not at the root level\n",
        "        if dirpath is not dataset_path:\n",
        "            # save the semantic label\n",
        "            dirpath_components = dirpath.split(\"\\\\\")\n",
        "            semantic_label = dirpath_components[-1]\n",
        "            data[\"mapping\"].append(semantic_label)\n",
        "            print(\"\\nProcessing {}\".format(semantic_label))\n",
        "\n",
        "            # process files for a specific genre\n",
        "            for file in filenames:\n",
        "                # load audio file\n",
        "                file_path = os.path.join(dirpath, file)\n",
        "                try:\n",
        "                    signal, sr = librosa.load(file_path, sr=SAMPLE_RATE)\n",
        "\n",
        "                    # process segments extracting mfcc and storing data\n",
        "                    for s in range(num_segments):\n",
        "                        start_sample = num_samples_per_segment * s\n",
        "                        finish_sample = start_sample + num_samples_per_segment\n",
        "\n",
        "                        mfcc = librosa.feature.mfcc(signal[start_sample:finish_sample],\n",
        "                                                sr=sr,\n",
        "                                                n_fft = n_fft,\n",
        "                                                n_mfcc=n_mfcc,\n",
        "                                                hop_length=hop_length)\n",
        "\n",
        "                        mfcc = mfcc.T\n",
        "\n",
        "                        # store mfcc for segment if it has the expected length\n",
        "                        if len(mfcc) == expected_num_mfcc_vectors_per_segment:\n",
        "                            data[\"mfcc\"].append(mfcc.tolist())\n",
        "                            data[\"labels\"].append(i-1)\n",
        "\n",
        "                except Exception as ex:\n",
        "                    print(\"An error occurred\")\n",
        "                    pass\n",
        "\n",
        "    with open(json_path, \"w\") as fp:\n",
        "        json.dump(data, fp, indent=4)\n",
        "\n"
      ],
      "execution_count": null,
      "outputs": []
    },
    {
      "cell_type": "code",
      "metadata": {
        "id": "_bU36Zp7bKzS",
        "pycharm": {
          "name": "#%%\n"
        }
      },
      "source": [
        "# save_mfcc(GTZAN_DATASET_PATH, GTZAN_JSON_PATH, num_segments=10)\n",
        "save_mfcc(GTZAN_DATASET_CLEAN_PATH, GTZAN_CLEAN_JSON_PATH, num_segments=10)\n",
        "# save_mfcc(PERSONAL_DATASET_PATH+\"/\"+str(DURATION), PERSONAL_JSON_PATH, num_segments=10)"
      ],
      "execution_count": null,
      "outputs": []
    },
    {
      "cell_type": "code",
      "metadata": {
        "id": "XF05oJ0ObKzS",
        "pycharm": {
          "name": "#%%\n"
        }
      },
      "source": [
        "# load data\n",
        "def load_data(dataset_path):\n",
        "    with open(dataset_path, \"r\") as fp:\n",
        "        data = json.load(fp)\n",
        "\n",
        "    # convert lists into numpy arrays\n",
        "    inputs = np.array(data[\"mfcc\"])\n",
        "    targets = np.array(data[\"labels\"])\n",
        "    genres = np.array(data[\"mapping\"])\n",
        "\n",
        "    return inputs, targets, genres"
      ],
      "execution_count": null,
      "outputs": []
    },
    {
      "cell_type": "code",
      "metadata": {
        "id": "cWq0f8HXbKzS",
        "pycharm": {
          "name": "#%%\n"
        }
      },
      "source": [
        "# plot accuracy and error over the epochs\n",
        "\n",
        "def plot_history(history):\n",
        "    fig, axs = plt.subplots(2)\n",
        "\n",
        "    # create accuracy subplot\n",
        "    axs[0].plot(history.history[\"accuracy\"], label=\"Train Accuracy\")\n",
        "    axs[0].plot(history.history[\"val_accuracy\"], label=\"Test Accuracy\")\n",
        "    axs[0].set_ylabel(\"Accuracy\")\n",
        "    axs[0].legend(loc=\"lower right\")\n",
        "    axs[0].set_title(\"Accuracy Eval\")\n",
        "\n",
        "    # create error subplot\n",
        "    axs[1].plot(history.history[\"loss\"], label=\"Train Error\")\n",
        "    axs[1].plot(history.history[\"val_loss\"], label=\"Test Error\")\n",
        "    axs[1].set_ylabel(\"Error\")\n",
        "    axs[1].set_xlabel(\"Epoch\")\n",
        "    axs[1].legend(loc=\"upper right\")\n",
        "    # axs[1].set_title(\"Error Eval\")\n",
        "\n",
        "    plt.show()"
      ],
      "execution_count": null,
      "outputs": []
    },
    {
      "cell_type": "code",
      "metadata": {
        "id": "tfyB46dDbKzS",
        "pycharm": {
          "name": "#%%\n"
        }
      },
      "source": [
        "# create train, validation and test sets\n",
        "def prepare_datasets(X, y, test_size, validation_size):\n",
        "    # create train/test split\n",
        "    X_validation, y_validation = [], []\n",
        "    X_train, X_test, y_train, y_test = train_test_split(X, y, test_size=test_size)\n",
        "    if validation_size > 0:\n",
        "        # create train/validation split\n",
        "        X_train, X_validation, y_train, y_validation = train_test_split(X_train, y_train, test_size=validation_size)\n",
        "    return X_train, X_validation, X_test, y_train, y_validation, y_test   "
      ],
      "execution_count": null,
      "outputs": []
    },
    {
      "cell_type": "markdown",
      "metadata": {
        "id": "-tneUVnvbKzT"
      },
      "source": [
        "### 2.4. Loading Dataset"
      ]
    },
    {
      "cell_type": "code",
      "metadata": {
        "id": "3MRDqWmPbKzU",
        "pycharm": {
          "name": "#%%\n"
        }
      },
      "source": [
        "X, y, c = load_data(GTZAN_JSON_PATH)"
      ],
      "execution_count": null,
      "outputs": []
    },
    {
      "cell_type": "code",
      "metadata": {
        "id": "pQN6m65gbKzU",
        "pycharm": {
          "name": "#%%\n"
        }
      },
      "source": [
        "clean_X, clean_y, clean_c = load_data(GTZAN_CLEAN_JSON_PATH)"
      ],
      "execution_count": null,
      "outputs": []
    },
    {
      "cell_type": "code",
      "metadata": {
        "id": "fh-xXuZ_bKzU",
        "pycharm": {
          "name": "#%%\n"
        }
      },
      "source": [
        "our_X, our_y, our_c = load_data(PERSONAL_JSON_PATH)"
      ],
      "execution_count": null,
      "outputs": []
    },
    {
      "cell_type": "markdown",
      "metadata": {
        "id": "Q7a5Q7_CbKzU"
      },
      "source": [
        "_______________________________________________________________________\n",
        "\n",
        "# 3. Implementing a Neural Network for Genre Classification\n",
        "\n",
        "## 3.1 Feed-forward architecture"
      ]
    },
    {
      "cell_type": "code",
      "metadata": {
        "id": "hBNOIM7hbKzU"
      },
      "source": [
        "class Custom_constraint(Constraint):\n",
        "    def __init__(self, good_weights):\n",
        "        self.good_weights = K.cast_to_floatx(good_weights)  \n",
        "    def __call__(self, w):\n",
        "        return self.good_weights * w  \n",
        "    def get_config(self):\n",
        "        return {'good_weights': self.good_weights}\n",
        "\n",
        "\n",
        "def keep_good_weights(model, sparsity = 30):\n",
        "    weights = model.get_weights()\n",
        "    good_weights = []\n",
        "    for weight in weights:\n",
        "        if len(weight.shape) > 1:\n",
        "            weight = np.abs(weight)\n",
        "            good_weights.append( weight > np.percentile(weight, sparsity) )\n",
        "    return good_weights\n",
        "\n",
        "\n",
        "\n",
        "\n",
        "def build_initial_MLP(inputs):\n",
        "    model = keras.Sequential([                          \n",
        "                  keras.layers.Flatten(input_shape=(inputs.shape[1], inputs.shape[2])),\n",
        "                  keras.layers.Dense(units = 500, \n",
        "                                    activation=\"elu\", \n",
        "                                    kernel_regularizer=keras.regularizers.l2(0.01)),\n",
        "                  keras.layers.Dropout(0.1),\n",
        "\n",
        "                  keras.layers.Dense( units = 400, \n",
        "                                    activation=\"elu\", \n",
        "                                    kernel_regularizer=keras.regularizers.l2(0.01)\n",
        "                                    ),\n",
        "                  keras.layers.Dropout(0.25),\n",
        "\n",
        "                  keras.layers.Dense( units = 300, \n",
        "                                    activation=\"elu\", \n",
        "                                    kernel_regularizer=keras.regularizers.l2(0.01)\n",
        "                                    ),\n",
        "                  keras.layers.Dropout(0.25),\n",
        "\n",
        "                  keras.layers.Dense(units = 200, \n",
        "                                    activation=\"elu\", \n",
        "                                    kernel_regularizer=keras.regularizers.l2(0.01)),\n",
        "                  keras.layers.Dropout(0.5),\n",
        "\n",
        "                  keras.layers.Dense(units = 100, \n",
        "                                    activation=\"elu\",\n",
        "                                    kernel_regularizer=keras.regularizers.l2(0.01)),\n",
        "                  keras.layers.Dropout(0.5),    \n",
        "\n",
        "                  keras.layers.Dense(units = 10, activation=\"softmax\")\n",
        "                  ])\n",
        "    return model \n",
        "  \n",
        "\n",
        "\n",
        "def build_sparse_MLP(inputs, sparse_weights):\n",
        "    model = keras.Sequential([                          \n",
        "                  keras.layers.Flatten( input_shape=(inputs.shape[1], inputs.shape[2])),\n",
        "\n",
        "                  keras.layers.Dense(units = 500, \n",
        "                                    activation = \"elu\", \n",
        "                                    kernel_regularizer = keras.regularizers.l2(0.01),\n",
        "                                    kernel_constraint = Custom_constraint(sparse_weights[0]) \n",
        "                                    ),\n",
        "                  keras.layers.Dropout(0.1),\n",
        "\n",
        "                  keras.layers.Dense( units = 400, \n",
        "                                    activation=\"elu\", \n",
        "                                    kernel_regularizer=keras.regularizers.l2(0.01),\n",
        "                                    kernel_constraint = Custom_constraint(sparse_weights[1])\n",
        "                                    ),\n",
        "                  keras.layers.Dropout(0.25),\n",
        "\n",
        "                  keras.layers.Dense( units = 300, \n",
        "                                    activation=\"elu\", \n",
        "                                    kernel_regularizer=keras.regularizers.l2(0.01),\n",
        "                                    kernel_constraint = Custom_constraint(sparse_weights[2])\n",
        "                                    ),\n",
        "                  keras.layers.Dropout(0.25),\n",
        "\n",
        "                  keras.layers.Dense( units = 200, \n",
        "                                    activation=\"elu\", \n",
        "                                    kernel_regularizer=keras.regularizers.l2(0.01),\n",
        "                                    kernel_constraint = Custom_constraint(sparse_weights[3])\n",
        "                                    ),\n",
        "                  keras.layers.Dropout(0.5),\n",
        "\n",
        "                  keras.layers.Dense(units = 100, \n",
        "                                    activation=\"elu\",\n",
        "                                    kernel_regularizer=keras.regularizers.l2(0.01),\n",
        "                                    kernel_constraint = Custom_constraint(sparse_weights[4]) \n",
        "                                    ),\n",
        "                  keras.layers.Dropout(0.5),\n",
        "\n",
        "                  keras.layers.Dense(units = 10, activation=\"softmax\")\n",
        "                  ])\n",
        "    return model \n",
        "\n",
        "\n",
        "def build(inputs):\n",
        "    model = keras.Sequential([                          \n",
        "                  keras.layers.Flatten( input_shape=(inputs.shape[1], inputs.shape[2])),\n",
        "\n",
        "                  keras.layers.Dense(units = 500, \n",
        "                                    activation=\"elu\", \n",
        "                                    kernel_regularizer=keras.regularizers.l2(0.01)),\n",
        "                  keras.layers.Dropout(0.1),\n",
        "\n",
        "                  keras.layers.Dense(units = 400, \n",
        "                                    activation=\"elu\", \n",
        "                                    kernel_regularizer=keras.regularizers.l2(0.01)\n",
        "                                    ),\n",
        "                  keras.layers.Dropout(0.25),\n",
        "\n",
        "                  keras.layers.Dense(units = 300, \n",
        "                                    activation=\"elu\", \n",
        "                                    kernel_regularizer=keras.regularizers.l2(0.01)\n",
        "                                    ),\n",
        "                  keras.layers.Dropout(0.25),\n",
        "\n",
        "                  keras.layers.Dense(units = 200, \n",
        "                                    activation=\"elu\", \n",
        "                                    kernel_regularizer=keras.regularizers.l2(0.01)),\n",
        "                  keras.layers.Dropout(0.5),\n",
        "\n",
        "                  keras.layers.Dense(units = 100, \n",
        "                                    activation=\"elu\",\n",
        "                                    kernel_regularizer=keras.regularizers.l2(0.01)),\n",
        "                  keras.layers.Dropout(0.5),\n",
        "\n",
        "                  keras.layers.Dense(units = 10, activation=\"softmax\")\n",
        "                  ])\n",
        "    return model \n",
        "\n"
      ],
      "execution_count": null,
      "outputs": []
    },
    {
      "cell_type": "code",
      "metadata": {
        "id": "YvUEbm7sEYCD"
      },
      "source": [
        "def compile_MLP(model):\n",
        "    optimizer = keras.optimizers.Adam(learning_rate=0.0001)\n",
        "    model.compile(optimizer= optimizer,\n",
        "                  loss=\"sparse_categorical_crossentropy\",\n",
        "                  metrics=[\"accuracy\"])\n",
        "\n",
        "def compile_model(model):\n",
        "    optimizer = keras.optimizers.Adam(learning_rate=0.00001)\n",
        "    model.compile(optimizer= optimizer,\n",
        "                  loss=\"sparse_categorical_crossentropy\",\n",
        "                  metrics=[\"accuracy\"])\n"
      ],
      "execution_count": null,
      "outputs": []
    },
    {
      "cell_type": "code",
      "metadata": {
        "id": "VCXUpJwyEYCD"
      },
      "source": [
        "def initial_dense_multi_layer_perceptron(X, y):\n",
        "\n",
        "    X_train, X_validation, X_test, y_train, y_validation, y_test = prepare_datasets(X, y, 0.25, 0.2)\n",
        "    model = build_initial_MLP(X_train)\n",
        "    compile_MLP(model)\n",
        "    history = train(model, X_train, X_validation, y_train, y_validation)\n",
        "    return model\n",
        "\n",
        "\n",
        "def sparse_multi_layer_perceptron(X, y, prev_model):\n",
        "\n",
        "    X_train, X_validation, X_test, y_train, y_validation, y_test = prepare_datasets(X, y, 0.25, 0.2)\n",
        "    sparse_model = build_sparse_MLP(X_train, keep_good_weights(prev_model))\n",
        "    compile_MLP(sparse_model)\n",
        "    sparse_model.set_weights(prev_model.get_weights())\n",
        "    history = train(sparse_model, X_train, X_validation, y_train, y_validation)    \n",
        "    return sparse_model"
      ],
      "execution_count": null,
      "outputs": []
    },
    {
      "cell_type": "code",
      "metadata": {
        "id": "OCvsXUx-bKzV",
        "pycharm": {
          "name": "#%%\n"
        }
      },
      "source": [
        "def train(model, X_train, X_validation, y_train, y_validation):\n",
        "    if len(X_validation) > 0:\n",
        "        callback = keras.callbacks.EarlyStopping(monitor='val_loss',  patience=10, mode='auto')\n",
        "        history = model.fit(X_train, y_train, validation_data= (X_validation, y_validation), batch_size=32, epochs=200, callbacks=[callback])\n",
        "    else: \n",
        "        callback = keras.callbacks.EarlyStopping(monitor='loss',  patience=10, mode='auto')\n",
        "        history = model.fit(X_train, y_train, batch_size=32, epochs=200, callbacks=[callback])\n",
        "    return history"
      ],
      "execution_count": null,
      "outputs": []
    },
    {
      "cell_type": "code",
      "metadata": {
        "id": "zN-AhynjbKzV",
        "pycharm": {
          "name": "#%%\n"
        }
      },
      "source": [
        "def test(model, X_test, y_test):\n",
        "    # here verbose was = 2\n",
        "    test_loss, test_accuracy = model.evaluate(X_test, y_test, verbose=1)\n",
        "    return test_loss, test_accuracy\n",
        "\n",
        "\n",
        "def get_classification_report(model, X, y):\n",
        "    prediction = np.argmax(model.predict(X), axis=1)\n",
        "    return classification_report(y_true = y, y_pred = prediction)"
      ],
      "execution_count": null,
      "outputs": []
    },
    {
      "cell_type": "code",
      "metadata": {
        "id": "BptQ0SEHbKzV",
        "pycharm": {
          "name": "#%%\n"
        }
      },
      "source": [
        "# k-fold cross-validation\n",
        "def k_fold_cross_validation(X, y, n_split, network, cw = np.ones(10)):\n",
        "    X_train, X_validation, X_test, y_train, y_validation, y_test = prepare_datasets(X, y, 0.25, 0)\n",
        "    kfold = KFold(n_splits=n_split, shuffle=True)\n",
        "    if network == \"nn\":\n",
        "        input_shape = X_train\n",
        "    elif network == \"cnn\":\n",
        "        input_shape = (X_train.shape[1], X_train.shape[2], X_train.shape[3])\n",
        "    else:\n",
        "        input_shape = (X_train.shape[1], X_train.shape[2])\n",
        "    acc_per_fold = []\n",
        "    loss_per_fold = []\n",
        "    fold_no = 1\n",
        "    \n",
        "    for tr, ts in kfold.split(X_train, y_train):\n",
        "        model = build(input_shape)\n",
        "        compile_model(model, cw)\n",
        "        print('------------------------------------------------------------------------')\n",
        "        print(f'Training for fold {fold_no} ...')\n",
        "        history = train(model, X[tr], X_validation, y[tr], y_validation)\n",
        "        scores = test(model, X[ts], y[ts])\n",
        "        \n",
        "        acc_per_fold.append(scores[1] * 100)\n",
        "        loss_per_fold.append(scores[0])\n",
        "        fold_no = fold_no + 1\n",
        "    \n",
        "    # == Provide average scores ==\n",
        "    print('------------------------------------------------------------------------')\n",
        "    print('Score per fold')\n",
        "    for i in range(0, len(acc_per_fold)):\n",
        "        print('------------------------------------------------------------------------')\n",
        "        print(f'> Fold {i+1} - Loss: {loss_per_fold[i]} - Accuracy: {acc_per_fold[i]}%')\n",
        "    print('------------------------------------------------------------------------')\n",
        "    print('Average scores for all folds:')\n",
        "    print(f'> Accuracy: {np.mean(acc_per_fold)} (+- {np.std(acc_per_fold)})')\n",
        "    print(f'> Loss: {np.mean(loss_per_fold)}')\n",
        "    print('------------------------------------------------------------------------')   "
      ],
      "execution_count": null,
      "outputs": []
    },
    {
      "cell_type": "code",
      "metadata": {
        "id": "GIZPActCbKzW"
      },
      "source": [
        "def get_confusion_matrix(X_test, y_target, classes):\n",
        "    y_pred = np.argmax(model.predict(X_test), axis=1)\n",
        "    cm = confusion_matrix(y_target, y_pred)\n",
        "    df_cm = pandas.DataFrame(cm,index=classes, columns=classes)\n",
        "    hmap = sns.heatmap(df_cm, annot=True, fmt=\"d\", cmap=\"gray\",linewidths=.5)\n",
        "\n",
        "    hmap.yaxis.set_ticklabels(hmap.yaxis.get_ticklabels(), ha='right')\n",
        "    hmap.xaxis.set_ticklabels(hmap.xaxis.get_ticklabels(), ha='right')\n",
        "    plt.ylabel('Target Genre')\n",
        "    plt.xlabel('Predicted Genre')\n",
        "    plt.title(\"Test Confusion Matrix\")\n",
        "\n",
        "    plt.show()\n",
        "    plt.cla()\n",
        "    plt.clf()"
      ],
      "execution_count": null,
      "outputs": []
    },
    {
      "cell_type": "code",
      "metadata": {
        "id": "FVCKeHarbKzW"
      },
      "source": [
        "def plot_roc(model, X, y):\n",
        "    y_score = model.predict_proba(X)\n",
        "    skplt.metrics.plot_roc(y, y_score)\n",
        "    plt.show()"
      ],
      "execution_count": null,
      "outputs": []
    },
    {
      "cell_type": "markdown",
      "metadata": {
        "id": "DOifzPNMbKzX"
      },
      "source": [
        "### 3.1.1. Training/Testing on GTZAN dataset"
      ]
    },
    {
      "cell_type": "code",
      "metadata": {
        "id": "LMLgRI0nbKzZ",
        "pycharm": {
          "name": "#%%\n"
        }
      },
      "source": [
        "k_fold_cross_validation(X, y, 2, \"nn\")"
      ],
      "execution_count": null,
      "outputs": []
    },
    {
      "cell_type": "code",
      "metadata": {
        "id": "zDhQ5YWcbKzZ"
      },
      "source": [
        "X_train, X_validation, X_test, y_train, y_validation, y_test = prepare_datasets(X, y, 0.25, 0.2)"
      ],
      "execution_count": null,
      "outputs": []
    },
    {
      "cell_type": "code",
      "metadata": {
        "id": "AELqN4H_bKzZ",
        "scrolled": false
      },
      "source": [
        "# 1st dense model\n",
        "initial_dense_model = initial_dense_multi_layer_perceptron(X, y)\n",
        "\n",
        "# sparse model\n",
        "sparse_model = sparse_multi_layer_perceptron(X, y, initial_dense_model)"
      ],
      "execution_count": null,
      "outputs": []
    },
    {
      "cell_type": "code",
      "metadata": {
        "id": "5CqUqWA_bKza"
      },
      "source": [
        "model = build(X_train)\n",
        "compile_model(model)\n",
        "model.set_weights(sparse_model.get_weights())"
      ],
      "execution_count": null,
      "outputs": []
    },
    {
      "cell_type": "code",
      "metadata": {
        "id": "eTQ3KcSibKza",
        "colab": {
          "base_uri": "https://localhost:8080/"
        },
        "outputId": "0a376e81-22c5-4649-acd7-231b6c0f7d3e"
      },
      "source": [
        "history = train(model, X_train, X_validation, y_train, y_validation)"
      ],
      "execution_count": null,
      "outputs": [
        {
          "output_type": "stream",
          "text": [
            "Epoch 1/200\n",
            "188/188 [==============================] - 4s 19ms/step - loss: 0.9558 - accuracy: 0.8764 - val_loss: 0.8477 - val_accuracy: 0.9166\n",
            "Epoch 2/200\n",
            "188/188 [==============================] - 3s 17ms/step - loss: 0.8625 - accuracy: 0.9066 - val_loss: 0.8358 - val_accuracy: 0.9152\n",
            "Epoch 3/200\n",
            "188/188 [==============================] - 3s 18ms/step - loss: 0.8367 - accuracy: 0.9192 - val_loss: 0.8329 - val_accuracy: 0.9186\n",
            "Epoch 4/200\n",
            "188/188 [==============================] - 3s 17ms/step - loss: 0.8156 - accuracy: 0.9178 - val_loss: 0.8248 - val_accuracy: 0.9172\n",
            "Epoch 5/200\n",
            "188/188 [==============================] - 3s 18ms/step - loss: 0.8078 - accuracy: 0.9174 - val_loss: 0.8196 - val_accuracy: 0.9186\n",
            "Epoch 6/200\n",
            "188/188 [==============================] - 3s 17ms/step - loss: 0.7873 - accuracy: 0.9292 - val_loss: 0.8197 - val_accuracy: 0.9146\n",
            "Epoch 7/200\n",
            "188/188 [==============================] - 3s 17ms/step - loss: 0.7951 - accuracy: 0.9212 - val_loss: 0.8190 - val_accuracy: 0.9166\n",
            "Epoch 8/200\n",
            "188/188 [==============================] - 3s 18ms/step - loss: 0.7646 - accuracy: 0.9309 - val_loss: 0.8189 - val_accuracy: 0.9172\n",
            "Epoch 9/200\n",
            "188/188 [==============================] - 4s 19ms/step - loss: 0.7636 - accuracy: 0.9274 - val_loss: 0.8214 - val_accuracy: 0.9139\n",
            "Epoch 10/200\n",
            "188/188 [==============================] - 4s 20ms/step - loss: 0.7396 - accuracy: 0.9353 - val_loss: 0.8213 - val_accuracy: 0.9166\n",
            "Epoch 11/200\n",
            "188/188 [==============================] - 3s 17ms/step - loss: 0.7424 - accuracy: 0.9378 - val_loss: 0.8169 - val_accuracy: 0.9166\n",
            "Epoch 12/200\n",
            "188/188 [==============================] - 3s 18ms/step - loss: 0.7338 - accuracy: 0.9430 - val_loss: 0.8145 - val_accuracy: 0.9159\n",
            "Epoch 13/200\n",
            "188/188 [==============================] - 3s 18ms/step - loss: 0.7281 - accuracy: 0.9339 - val_loss: 0.8216 - val_accuracy: 0.9179\n",
            "Epoch 14/200\n",
            "188/188 [==============================] - 4s 22ms/step - loss: 0.7073 - accuracy: 0.9490 - val_loss: 0.8149 - val_accuracy: 0.9166\n",
            "Epoch 15/200\n",
            "188/188 [==============================] - 3s 18ms/step - loss: 0.7138 - accuracy: 0.9441 - val_loss: 0.8172 - val_accuracy: 0.9146\n",
            "Epoch 16/200\n",
            "188/188 [==============================] - 3s 18ms/step - loss: 0.7094 - accuracy: 0.9407 - val_loss: 0.8165 - val_accuracy: 0.9139\n",
            "Epoch 17/200\n",
            "188/188 [==============================] - 3s 17ms/step - loss: 0.7027 - accuracy: 0.9496 - val_loss: 0.8154 - val_accuracy: 0.9172\n",
            "Epoch 18/200\n",
            "188/188 [==============================] - 3s 18ms/step - loss: 0.6852 - accuracy: 0.9490 - val_loss: 0.8187 - val_accuracy: 0.9172\n",
            "Epoch 19/200\n",
            "188/188 [==============================] - 3s 18ms/step - loss: 0.6890 - accuracy: 0.9493 - val_loss: 0.8197 - val_accuracy: 0.9139\n",
            "Epoch 20/200\n",
            "188/188 [==============================] - 3s 18ms/step - loss: 0.6759 - accuracy: 0.9572 - val_loss: 0.8246 - val_accuracy: 0.9099\n",
            "Epoch 21/200\n",
            "188/188 [==============================] - 3s 18ms/step - loss: 0.6800 - accuracy: 0.9529 - val_loss: 0.8234 - val_accuracy: 0.9139\n",
            "Epoch 22/200\n",
            "188/188 [==============================] - 3s 18ms/step - loss: 0.6711 - accuracy: 0.9504 - val_loss: 0.8211 - val_accuracy: 0.9112\n"
          ],
          "name": "stdout"
        }
      ]
    },
    {
      "cell_type": "code",
      "metadata": {
        "id": "fAS9pm_EbKza",
        "scrolled": true,
        "colab": {
          "base_uri": "https://localhost:8080/",
          "height": 295
        },
        "outputId": "89f7d079-034c-4d4f-f815-63b73edfa748"
      },
      "source": [
        "plot_history(history)"
      ],
      "execution_count": null,
      "outputs": [
        {
          "output_type": "display_data",
          "data": {
            "image/png": "[encoded data removed]",
            "text/plain": [
              "<Figure size 432x288 with 2 Axes>"
            ]
          },
          "metadata": {
            "tags": [],
            "needs_background": "light"
          }
        }
      ]
    },
    {
      "cell_type": "code",
      "metadata": {
        "id": "0ohxvmr0bKza",
        "colab": {
          "base_uri": "https://localhost:8080/"
        },
        "outputId": "8204b247-df91-4330-a56d-ac8f055e3716"
      },
      "source": [
        "test_loss, test_accuracy = test(model, X_test, y_test)  \n",
        "report = get_classification_report(model, X_test, y_test) "
      ],
      "execution_count": null,
      "outputs": [
        {
          "output_type": "stream",
          "text": [
            "79/79 [==============================] - 0s 6ms/step - loss: 0.7882 - accuracy: 0.9171\n"
          ],
          "name": "stdout"
        }
      ]
    },
    {
      "cell_type": "code",
      "metadata": {
        "id": "8hP7jv_obKzb",
        "colab": {
          "base_uri": "https://localhost:8080/",
          "height": 352
        },
        "outputId": "697c12f8-0fe9-41ab-e074-16325833ea0b"
      },
      "source": [
        "plot_roc(model, X_test, y_test)"
      ],
      "execution_count": null,
      "outputs": [
        {
          "output_type": "stream",
          "text": [
            "/usr/local/lib/python3.6/dist-packages/tensorflow/python/keras/engine/sequential.py:425: UserWarning: `model.predict_proba()` is deprecated and will be removed after 2021-01-01. Please use `model.predict()` instead.\n",
            "  warnings.warn('`model.predict_proba()` is deprecated and '\n"
          ],
          "name": "stderr"
        },
        {
          "output_type": "display_data",
          "data": {
            "image/png": "[encoded data removed]",
            "text/plain": [
              "<Figure size 432x288 with 1 Axes>"
            ]
          },
          "metadata": {
            "tags": [],
            "needs_background": "light"
          }
        }
      ]
    },
    {
      "cell_type": "code",
      "metadata": {
        "colab": {
          "base_uri": "https://localhost:8080/"
        },
        "id": "iw8ENfRHgRhC",
        "outputId": "4de457d4-4c14-4b56-82d0-eb9e883af018"
      },
      "source": [
        "print(\"Accuracy on test set is: {}\".format(test_accuracy))\r\n",
        "print(\"Loss on test set is: {}\".format(test_loss))\r\n",
        "print(report)"
      ],
      "execution_count": null,
      "outputs": [
        {
          "output_type": "stream",
          "text": [
            "Accuracy on test set is: 0.9171005487442017\n",
            "Loss on test set is: 0.7882264256477356\n",
            "              precision    recall  f1-score   support\n",
            "\n",
            "           0       0.92      0.89      0.91       235\n",
            "           1       0.96      0.94      0.95       256\n",
            "           2       0.88      0.85      0.86       244\n",
            "           3       0.94      0.92      0.93       259\n",
            "           4       0.90      0.94      0.92       236\n",
            "           5       0.87      0.92      0.89       259\n",
            "           6       0.96      0.94      0.95       251\n",
            "           7       0.93      0.94      0.94       259\n",
            "           8       0.93      0.92      0.92       254\n",
            "           9       0.87      0.91      0.89       244\n",
            "\n",
            "    accuracy                           0.92      2497\n",
            "   macro avg       0.92      0.92      0.92      2497\n",
            "weighted avg       0.92      0.92      0.92      2497\n",
            "\n"
          ],
          "name": "stdout"
        }
      ]
    },
    {
      "cell_type": "code",
      "metadata": {
        "id": "zUKt1xUBbKzc",
        "scrolled": false,
        "colab": {
          "base_uri": "https://localhost:8080/",
          "height": 346
        },
        "outputId": "61e53b03-5ece-4783-cdf6-9577d557b0d3"
      },
      "source": [
        "get_confusion_matrix(X_test, y_test, c)"
      ],
      "execution_count": null,
      "outputs": [
        {
          "output_type": "display_data",
          "data": {
            "image/png": "[encoded data removed]",
            "text/plain": [
              "<Figure size 432x288 with 2 Axes>"
            ]
          },
          "metadata": {
            "tags": [],
            "needs_background": "light"
          }
        },
        {
          "output_type": "display_data",
          "data": {
            "text/plain": [
              "<Figure size 432x288 with 0 Axes>"
            ]
          },
          "metadata": {
            "tags": []
          }
        }
      ]
    },
    {
      "cell_type": "markdown",
      "metadata": {
        "id": "6UNSoxfPbKzc"
      },
      "source": [
        "### 3.1.2. Training/Testing on clean GTZAN"
      ]
    },
    {
      "cell_type": "code",
      "metadata": {
        "id": "aM4rGg98bKzc",
        "pycharm": {
          "name": "#%%\n"
        }
      },
      "source": [
        "k_fold_cross_validation(clean_X, clean_y, 2, \"nn\")"
      ],
      "execution_count": null,
      "outputs": []
    },
    {
      "cell_type": "code",
      "metadata": {
        "id": "UKbbFg8bbKzc",
        "pycharm": {
          "name": "#%%\n"
        }
      },
      "source": [
        "X_train, X_validation, X_test, y_train, y_validation, y_test = prepare_datasets(clean_X, clean_y, 0.25, 0.2)"
      ],
      "execution_count": null,
      "outputs": []
    },
    {
      "cell_type": "code",
      "metadata": {
        "id": "jHILI41pbKzd",
        "pycharm": {
          "name": "#%%\n"
        }
      },
      "source": [
        "# 1st dense model\n",
        "initial_dense_model = initial_dense_multi_layer_perceptron(clean_X, clean_y)\n",
        "\n",
        "# sparse model\n",
        "sparse_model = sparse_multi_layer_perceptron(clean_X, clean_y, initial_dense_model)"
      ],
      "execution_count": null,
      "outputs": []
    },
    {
      "cell_type": "code",
      "metadata": {
        "id": "Ux4ySKMvbKzd"
      },
      "source": [
        "model = build(X_train)\n",
        "compile_model(model)\n",
        "model.set_weights(sparse_model.get_weights())"
      ],
      "execution_count": null,
      "outputs": []
    },
    {
      "cell_type": "code",
      "metadata": {
        "id": "aiCWSMo_bKzd",
        "pycharm": {
          "name": "#%%\n"
        }
      },
      "source": [
        "history = train(model, X_train, X_validation, y_train, y_validation)"
      ],
      "execution_count": null,
      "outputs": []
    },
    {
      "cell_type": "code",
      "metadata": {
        "id": "I93H-N0BbKzd",
        "pycharm": {
          "name": "#%%\n"
        }
      },
      "source": [
        "plot_history(history)"
      ],
      "execution_count": null,
      "outputs": []
    },
    {
      "cell_type": "code",
      "metadata": {
        "id": "w4WAPPAPbKzd",
        "pycharm": {
          "name": "#%%\n"
        },
        "colab": {
          "base_uri": "https://localhost:8080/"
        },
        "outputId": "474d46eb-6793-4bc1-b302-d689e3e34f93"
      },
      "source": [
        "test_loss, test_accuracy = test(model, X_test, y_test)   \n",
        "report = get_classification_report(model, X_test, y_test) "
      ],
      "execution_count": null,
      "outputs": [
        {
          "output_type": "stream",
          "text": [
            "73/73 [==============================] - 0s 6ms/step - loss: 0.7916 - accuracy: 0.9512\n"
          ],
          "name": "stdout"
        }
      ]
    },
    {
      "cell_type": "code",
      "metadata": {
        "id": "YIODfie6bKzd",
        "pycharm": {
          "name": "#%%\n"
        },
        "colab": {
          "base_uri": "https://localhost:8080/"
        },
        "outputId": "fd50fcaa-b970-4227-9cef-71cbbc427cd0"
      },
      "source": [
        "print(\"Accuracy on test set is: {}\".format(test_accuracy))\n",
        "print(\"Loss on test set is: {}\".format(test_loss))\n",
        "print(report)"
      ],
      "execution_count": null,
      "outputs": [
        {
          "output_type": "stream",
          "text": [
            "Accuracy on test set is: 0.9512300491333008\n",
            "Loss on test set is: 0.7915685176849365\n",
            "              precision    recall  f1-score   support\n",
            "\n",
            "           0       0.96      0.98      0.97       248\n",
            "           1       0.97      0.97      0.97       249\n",
            "           2       0.92      0.95      0.93       256\n",
            "           3       0.96      0.96      0.96       232\n",
            "           4       0.98      0.93      0.95       233\n",
            "           5       0.91      0.94      0.93       200\n",
            "           6       0.97      0.98      0.97       229\n",
            "           7       0.96      0.96      0.96       227\n",
            "           8       0.96      0.94      0.95       211\n",
            "           9       0.92      0.91      0.91       232\n",
            "\n",
            "    accuracy                           0.95      2317\n",
            "   macro avg       0.95      0.95      0.95      2317\n",
            "weighted avg       0.95      0.95      0.95      2317\n",
            "\n"
          ],
          "name": "stdout"
        }
      ]
    },
    {
      "cell_type": "code",
      "metadata": {
        "id": "jdHctOfKbKzd",
        "colab": {
          "base_uri": "https://localhost:8080/",
          "height": 352
        },
        "outputId": "f7578738-844a-4f87-b2ac-6cc45ca7a190"
      },
      "source": [
        "plot_roc(model, X_test, y_test)"
      ],
      "execution_count": null,
      "outputs": [
        {
          "output_type": "stream",
          "text": [
            "/usr/local/lib/python3.6/dist-packages/tensorflow/python/keras/engine/sequential.py:425: UserWarning: `model.predict_proba()` is deprecated and will be removed after 2021-01-01. Please use `model.predict()` instead.\n",
            "  warnings.warn('`model.predict_proba()` is deprecated and '\n"
          ],
          "name": "stderr"
        },
        {
          "output_type": "display_data",
          "data": {
            "image/png": "[encoded data removed]",
            "text/plain": [
              "<Figure size 432x288 with 1 Axes>"
            ]
          },
          "metadata": {
            "tags": [],
            "needs_background": "light"
          }
        }
      ]
    },
    {
      "cell_type": "code",
      "metadata": {
        "id": "sDxJHMqNbKze",
        "colab": {
          "base_uri": "https://localhost:8080/",
          "height": 346
        },
        "outputId": "dd845fb8-6a53-4141-d069-65b0b7bccaf1"
      },
      "source": [
        "get_confusion_matrix(X_test, y_test, clean_c)"
      ],
      "execution_count": null,
      "outputs": [
        {
          "output_type": "display_data",
          "data": {
            "image/png": "[encoded data removed]",
            "text/plain": [
              "<Figure size 432x288 with 2 Axes>"
            ]
          },
          "metadata": {
            "tags": [],
            "needs_background": "light"
          }
        },
        {
          "output_type": "display_data",
          "data": {
            "text/plain": [
              "<Figure size 432x288 with 0 Axes>"
            ]
          },
          "metadata": {
            "tags": []
          }
        }
      ]
    },
    {
      "cell_type": "markdown",
      "metadata": {
        "id": "Nalp_pNdbKze"
      },
      "source": [
        "### 3.1.3. Training/Testing on our dataset"
      ]
    },
    {
      "cell_type": "code",
      "metadata": {
        "id": "-4N9N6-6bKze",
        "pycharm": {
          "name": "#%%\n"
        },
        "scrolled": true
      },
      "source": [
        "k_fold_cross_validation(our_X, our_y, 2, \"nn\")"
      ],
      "execution_count": null,
      "outputs": []
    },
    {
      "cell_type": "code",
      "metadata": {
        "id": "R0l1-QrrbKzf",
        "pycharm": {
          "name": "#%%\n"
        }
      },
      "source": [
        "X_train, X_validation, X_test, y_train, y_validation, y_test = prepare_datasets(our_X, our_y, 0.25, 0.2)"
      ],
      "execution_count": null,
      "outputs": []
    },
    {
      "cell_type": "code",
      "metadata": {
        "id": "_GBcDnXNbKzf",
        "pycharm": {
          "name": "#%%\n"
        }
      },
      "source": [
        "# 1st dense model\n",
        "initial_dense_model = initial_dense_multi_layer_perceptron(our_X, our_y)\n",
        "\n",
        "# sparse model\n",
        "sparse_model = sparse_multi_layer_perceptron(our_X, our_y, initial_dense_model)"
      ],
      "execution_count": null,
      "outputs": []
    },
    {
      "cell_type": "code",
      "metadata": {
        "id": "7RyJ-w_kbKzf"
      },
      "source": [
        "model = build(X_train)\n",
        "compile_model(model)\n",
        "model.set_weights(sparse_model.get_weights())"
      ],
      "execution_count": null,
      "outputs": []
    },
    {
      "cell_type": "code",
      "metadata": {
        "id": "Oa6sz_DubKzg",
        "pycharm": {
          "name": "#%%\n"
        }
      },
      "source": [
        "history = train(model, X_train, X_validation, y_train, y_validation)"
      ],
      "execution_count": null,
      "outputs": []
    },
    {
      "cell_type": "code",
      "metadata": {
        "id": "_rmX-sdfbKzg",
        "pycharm": {
          "name": "#%%\n"
        },
        "colab": {
          "base_uri": "https://localhost:8080/",
          "height": 295
        },
        "outputId": "169b053f-b98a-429b-ccdb-769e9b4ad37c"
      },
      "source": [
        "plot_history(history)"
      ],
      "execution_count": null,
      "outputs": [
        {
          "output_type": "display_data",
          "data": {
            "image/png": "[encoded data removed]",
            "text/plain": [
              "<Figure size 432x288 with 2 Axes>"
            ]
          },
          "metadata": {
            "tags": [],
            "needs_background": "light"
          }
        }
      ]
    },
    {
      "cell_type": "code",
      "metadata": {
        "id": "XFYJ-aUmbKzg",
        "pycharm": {
          "name": "#%%\n"
        },
        "colab": {
          "base_uri": "https://localhost:8080/"
        },
        "outputId": "fb377f5c-e3dc-482b-a288-f04fae97c747"
      },
      "source": [
        "test_loss, test_accuracy = test(model, X_test, y_test)   \n",
        "report = get_classification_report(model, X_test, y_test) "
      ],
      "execution_count": null,
      "outputs": [
        {
          "output_type": "stream",
          "text": [
            "66/66 [==============================] - 0s 6ms/step - loss: 1.3033 - accuracy: 0.8584\n"
          ],
          "name": "stdout"
        }
      ]
    },
    {
      "cell_type": "code",
      "metadata": {
        "id": "j0YqnLdfbKzg",
        "pycharm": {
          "name": "#%%\n"
        },
        "colab": {
          "base_uri": "https://localhost:8080/"
        },
        "outputId": "f7baf925-12b6-477d-81c6-a81e6846785d"
      },
      "source": [
        "print(\"Accuracy on test set is: {}\".format(test_accuracy))\n",
        "print(\"Loss on test set is: {}\".format(test_loss))\n",
        "print(report)"
      ],
      "execution_count": null,
      "outputs": [
        {
          "output_type": "stream",
          "text": [
            "Accuracy on test set is: 0.8584365844726562\n",
            "Loss on test set is: 1.3032809495925903\n",
            "              precision    recall  f1-score   support\n",
            "\n",
            "           0       0.80      0.80      0.80       200\n",
            "           1       0.73      0.85      0.78       242\n",
            "           2       0.81      0.79      0.80       180\n",
            "           3       0.89      0.86      0.87       252\n",
            "           4       0.92      0.90      0.91       183\n",
            "           5       0.94      0.90      0.92       274\n",
            "           6       0.77      0.82      0.80       102\n",
            "           7       0.90      0.87      0.88       197\n",
            "           8       0.90      0.90      0.90       250\n",
            "           9       0.93      0.85      0.89       218\n",
            "\n",
            "    accuracy                           0.86      2098\n",
            "   macro avg       0.86      0.85      0.85      2098\n",
            "weighted avg       0.86      0.86      0.86      2098\n",
            "\n"
          ],
          "name": "stdout"
        }
      ]
    },
    {
      "cell_type": "code",
      "metadata": {
        "id": "uzq7GsGFbKzh",
        "colab": {
          "base_uri": "https://localhost:8080/",
          "height": 352
        },
        "outputId": "1d9ea227-4fb3-4a79-90ad-39a327d54990"
      },
      "source": [
        "plot_roc(model, X_test, y_test)"
      ],
      "execution_count": null,
      "outputs": [
        {
          "output_type": "stream",
          "text": [
            "/usr/local/lib/python3.6/dist-packages/tensorflow/python/keras/engine/sequential.py:425: UserWarning: `model.predict_proba()` is deprecated and will be removed after 2021-01-01. Please use `model.predict()` instead.\n",
            "  warnings.warn('`model.predict_proba()` is deprecated and '\n"
          ],
          "name": "stderr"
        },
        {
          "output_type": "display_data",
          "data": {
            "image/png": "[encoded data removed]",
            "text/plain": [
              "<Figure size 432x288 with 1 Axes>"
            ]
          },
          "metadata": {
            "tags": [],
            "needs_background": "light"
          }
        }
      ]
    },
    {
      "cell_type": "code",
      "metadata": {
        "id": "jfnn1A0ObKzi",
        "colab": {
          "base_uri": "https://localhost:8080/",
          "height": 354
        },
        "outputId": "104dc407-d28c-4609-b2ec-31c58e168e29"
      },
      "source": [
        "get_confusion_matrix(X_test, y_test, our_c)"
      ],
      "execution_count": null,
      "outputs": [
        {
          "output_type": "display_data",
          "data": {
            "image/png": "[encoded data removed]",
            "text/plain": [
              "<Figure size 432x288 with 2 Axes>"
            ]
          },
          "metadata": {
            "tags": [],
            "needs_background": "light"
          }
        },
        {
          "output_type": "display_data",
          "data": {
            "text/plain": [
              "<Figure size 432x288 with 0 Axes>"
            ]
          },
          "metadata": {
            "tags": []
          }
        }
      ]
    },
    {
      "cell_type": "markdown",
      "metadata": {
        "id": "pxC7ICRzbKzi"
      },
      "source": [
        "## 3.2 Convolutional Neural Network"
      ]
    },
    {
      "cell_type": "code",
      "metadata": {
        "id": "lPlu-99-bKzi",
        "pycharm": {
          "name": "#%%\n"
        }
      },
      "source": [
        "# build the CNN network\n",
        "def build(input_shape):\n",
        "    # create model\n",
        "    model = keras.Sequential()\n",
        "    # 1st conv layer\n",
        "    model.add(keras.layers.Conv2D(32, (3,3), activation='relu', input_shape=input_shape))\n",
        "    model.add(keras.layers.MaxPool2D((3,3), strides=(2, 2), padding='same'))\n",
        "    model.add(keras.layers.BatchNormalization())\n",
        "\n",
        "    # 2nd conv layer\n",
        "    model.add(keras.layers.Conv2D(32, (3,3), activation='relu', input_shape=input_shape))\n",
        "    model.add(keras.layers.MaxPool2D((3,3), strides=(2, 2), padding='same'))\n",
        "    model.add(keras.layers.BatchNormalization())\n",
        "\n",
        "    # 3rd conv layer\n",
        "    model.add(keras.layers.Conv2D(32, (2,2), activation='relu', input_shape=input_shape))\n",
        "    model.add(keras.layers.MaxPool2D((2,2), strides=(2, 2), padding='same'))\n",
        "    model.add(keras.layers.BatchNormalization())\n",
        "\n",
        "    # flatten the output and feed it into dense layer\n",
        "    model.add(keras.layers.Flatten())\n",
        "    model.add(keras.layers.Dense(64, activation='relu'))\n",
        "    model.add(keras.layers.Dropout(0.2))\n",
        "\n",
        "    # output layer\n",
        "    model.add(keras.layers.Dense(10, activation='softmax'))\n",
        "\n",
        "    return model"
      ],
      "execution_count": null,
      "outputs": []
    },
    {
      "cell_type": "markdown",
      "metadata": {
        "id": "0E7AsqffbKzj"
      },
      "source": [
        "### 3.2.1 Training/Testing on GTZAN dataset"
      ]
    },
    {
      "cell_type": "code",
      "metadata": {
        "id": "OXtbTtVebKzj",
        "pycharm": {
          "name": "#%%\n"
        }
      },
      "source": [
        "inputs = X[..., np.newaxis]"
      ],
      "execution_count": null,
      "outputs": []
    },
    {
      "cell_type": "code",
      "metadata": {
        "id": "VIj8_iD0bKzj",
        "pycharm": {
          "name": "#%%\n"
        }
      },
      "source": [
        "k_fold_cross_validation(inputs, y, 2, \"cnn\")"
      ],
      "execution_count": null,
      "outputs": []
    },
    {
      "cell_type": "code",
      "metadata": {
        "id": "o6PTmDyFbKzk",
        "pycharm": {
          "name": "#%%\n"
        }
      },
      "source": [
        "X_train, X_validation, X_test, y_train, y_validation, y_test = prepare_datasets(inputs, y, 0.25, 0.2)\n",
        "input_shape = (X_train.shape[1], X_train.shape[2], X_train.shape[3])"
      ],
      "execution_count": null,
      "outputs": []
    },
    {
      "cell_type": "code",
      "metadata": {
        "id": "CILrxsI1bKzk",
        "pycharm": {
          "name": "#%%\n"
        }
      },
      "source": [
        "# build the network\n",
        "model = build(input_shape)\n",
        "\n",
        "# compile the network\n",
        "compile_model(model)"
      ],
      "execution_count": null,
      "outputs": []
    },
    {
      "cell_type": "code",
      "metadata": {
        "id": "cSBalelIbKzk",
        "pycharm": {
          "name": "#%%\n"
        }
      },
      "source": [
        "# train CNN\n",
        "history = train(model, X_train, X_validation, y_train, y_validation)"
      ],
      "execution_count": null,
      "outputs": []
    },
    {
      "cell_type": "code",
      "metadata": {
        "id": "CW2zD-bsbKzk",
        "pycharm": {
          "name": "#%%\n"
        }
      },
      "source": [
        "plot_history(history)\n"
      ],
      "execution_count": null,
      "outputs": []
    },
    {
      "cell_type": "code",
      "metadata": {
        "id": "ckLN8PiJbKzl",
        "pycharm": {
          "name": "#%%\n"
        }
      },
      "source": [
        "# test CNN on test set\n",
        "test_loss, test_accuracy = test(model, X_test, y_test)\n",
        "# classification report\n",
        "report = get_classification_report(model, X_test, y_test)"
      ],
      "execution_count": null,
      "outputs": []
    },
    {
      "cell_type": "code",
      "metadata": {
        "id": "fxR2nK7YbKzl",
        "pycharm": {
          "name": "#%%\n"
        }
      },
      "source": [
        "print(\"Accuracy on test set is: {}\".format(test_accuracy))\n",
        "print(\"Loss on test set is: {}\".format(test_loss))\n",
        "print(report)"
      ],
      "execution_count": null,
      "outputs": []
    },
    {
      "cell_type": "code",
      "metadata": {
        "id": "NCAkP80JbKzl"
      },
      "source": [
        "plot_roc(model, X_test, y_test)"
      ],
      "execution_count": null,
      "outputs": []
    },
    {
      "cell_type": "code",
      "metadata": {
        "id": "y4U27euFbKzl"
      },
      "source": [
        "get_confusion_matrix(X_test, y_test, c)"
      ],
      "execution_count": null,
      "outputs": []
    },
    {
      "cell_type": "markdown",
      "metadata": {
        "id": "PSQKhbTNbKzl"
      },
      "source": [
        "### 3.2.2. Training/Testing on clean GTZAN"
      ]
    },
    {
      "cell_type": "code",
      "metadata": {
        "id": "jRmEcQ_ZbKzm",
        "pycharm": {
          "name": "#%%\n"
        }
      },
      "source": [
        "clean_inputs = clean_X[..., np.newaxis]"
      ],
      "execution_count": null,
      "outputs": []
    },
    {
      "cell_type": "code",
      "metadata": {
        "id": "P5DN35QsbKzm",
        "pycharm": {
          "name": "#%%\n"
        }
      },
      "source": [
        "k_fold_cross_validation(clean_inputs, clean_y, 2, \"cnn\")"
      ],
      "execution_count": null,
      "outputs": []
    },
    {
      "cell_type": "code",
      "metadata": {
        "id": "_mRYpfJ2bKzn",
        "pycharm": {
          "name": "#%%\n"
        }
      },
      "source": [
        "X_train, X_validation, X_test, y_train, y_validation, y_test = prepare_datasets(clean_inputs, clean_y, 0.25, 0.2)\n",
        "input_shape = (X_train.shape[1], X_train.shape[2], X_train.shape[3])"
      ],
      "execution_count": null,
      "outputs": []
    },
    {
      "cell_type": "code",
      "metadata": {
        "id": "lQgTV6mxbKzn",
        "pycharm": {
          "name": "#%%\n"
        }
      },
      "source": [
        "# build the network\n",
        "model = build(input_shape)\n",
        "\n",
        "# compile the network\n",
        "compile_model(model)"
      ],
      "execution_count": null,
      "outputs": []
    },
    {
      "cell_type": "code",
      "metadata": {
        "id": "TPkcAdecbKzq",
        "pycharm": {
          "name": "#%%\n"
        }
      },
      "source": [
        "# train CNN\n",
        "history = train(model, X_train, X_validation, y_train, y_validation)"
      ],
      "execution_count": null,
      "outputs": []
    },
    {
      "cell_type": "code",
      "metadata": {
        "id": "41xWlNqdbKzq",
        "pycharm": {
          "name": "#%%\n"
        }
      },
      "source": [
        "plot_history(history)"
      ],
      "execution_count": null,
      "outputs": []
    },
    {
      "cell_type": "code",
      "metadata": {
        "id": "rJEzEqvFbKzq",
        "pycharm": {
          "name": "#%%\n"
        }
      },
      "source": [
        "# test CNN on test set\n",
        "test_loss, test_accuracy = test(model, X_test, y_test)\n",
        "# classification report\n",
        "report = get_classification_report(model, X_test, y_test)"
      ],
      "execution_count": null,
      "outputs": []
    },
    {
      "cell_type": "code",
      "metadata": {
        "id": "NXWXBZIDbKzq",
        "pycharm": {
          "name": "#%%\n"
        }
      },
      "source": [
        "print(\"Accuracy on test set is: {}\".format(test_accuracy))\n",
        "print(\"Loss on test set is: {}\".format(test_loss))\n",
        "print(report)"
      ],
      "execution_count": null,
      "outputs": []
    },
    {
      "cell_type": "code",
      "metadata": {
        "id": "ZuDxCsu7bKzq"
      },
      "source": [
        "plot_roc(model, X_test, y_test)"
      ],
      "execution_count": null,
      "outputs": []
    },
    {
      "cell_type": "code",
      "metadata": {
        "id": "x079Sw6lbKzq"
      },
      "source": [
        "get_confusion_matrix(X_test, y_test, clean_c)"
      ],
      "execution_count": null,
      "outputs": []
    },
    {
      "cell_type": "markdown",
      "metadata": {
        "id": "lCVKnJmlbKzq"
      },
      "source": [
        "### 3.2.3 Training/Testing on our dataset"
      ]
    },
    {
      "cell_type": "code",
      "metadata": {
        "id": "ETdUCK0DbKzq",
        "pycharm": {
          "name": "#%%\n"
        }
      },
      "source": [
        "our_inputs = our_X[..., np.newaxis]"
      ],
      "execution_count": null,
      "outputs": []
    },
    {
      "cell_type": "code",
      "metadata": {
        "id": "ZIsVb0TdbKzr",
        "pycharm": {
          "name": "#%%\n"
        }
      },
      "source": [
        "k_fold_cross_validation(our_inputs, our_y, 2, \"cnn\")"
      ],
      "execution_count": null,
      "outputs": []
    },
    {
      "cell_type": "code",
      "metadata": {
        "id": "tVOS6QPFbKzr",
        "pycharm": {
          "name": "#%%\n"
        }
      },
      "source": [
        "X_train, X_validation, X_test, y_train, y_validation, y_test = prepare_datasets(our_inputs, our_y, 0.25, 0.2)\n",
        "input_shape = (X_train.shape[1], X_train.shape[2], X_train.shape[3])"
      ],
      "execution_count": null,
      "outputs": []
    },
    {
      "cell_type": "code",
      "metadata": {
        "id": "Q2TvIyyQbKzr",
        "pycharm": {
          "name": "#%%\n"
        }
      },
      "source": [
        "# build the network\n",
        "model = build(input_shape)\n",
        "\n",
        "# compile the network\n",
        "compile_model(model)"
      ],
      "execution_count": null,
      "outputs": []
    },
    {
      "cell_type": "code",
      "metadata": {
        "id": "s_UaoKX-bKzr",
        "pycharm": {
          "name": "#%%\n"
        }
      },
      "source": [
        "# train CNN\n",
        "history = train(model, X_train, X_validation, y_train, y_validation)"
      ],
      "execution_count": null,
      "outputs": []
    },
    {
      "cell_type": "code",
      "metadata": {
        "id": "jZISYhgBbKzr",
        "pycharm": {
          "name": "#%%\n"
        }
      },
      "source": [
        "plot_history(history)"
      ],
      "execution_count": null,
      "outputs": []
    },
    {
      "cell_type": "code",
      "metadata": {
        "id": "40395S5-bKzs",
        "pycharm": {
          "name": "#%%\n"
        }
      },
      "source": [
        "# test CNN on test set\n",
        "test_loss, test_accuracy = test(model, X_test, y_test)\n",
        "# classification report\n",
        "report = get_classification_report(model, X_test, y_test)"
      ],
      "execution_count": null,
      "outputs": []
    },
    {
      "cell_type": "code",
      "metadata": {
        "id": "2bJIlGeDbKzs",
        "pycharm": {
          "name": "#%%\n"
        }
      },
      "source": [
        "print(\"Accuracy on test set is: {}\".format(test_accuracy))\n",
        "print(\"Loss on test set is: {}\".format(test_loss))\n",
        "print(report)"
      ],
      "execution_count": null,
      "outputs": []
    },
    {
      "cell_type": "code",
      "metadata": {
        "id": "-l_KZBXXbKzs"
      },
      "source": [
        "plot_roc(model, X_test, y_test)"
      ],
      "execution_count": null,
      "outputs": []
    },
    {
      "cell_type": "code",
      "metadata": {
        "id": "Nv_kt3ZBbKzs"
      },
      "source": [
        "get_confusion_matrix(X_test, y_test, our_c)"
      ],
      "execution_count": null,
      "outputs": []
    },
    {
      "cell_type": "markdown",
      "metadata": {
        "id": "RcawT__jbKzs"
      },
      "source": [
        "# 3.3 Recurrent Neural Network"
      ]
    },
    {
      "cell_type": "code",
      "metadata": {
        "id": "NGlGipYEbKzt",
        "pycharm": {
          "name": "#%%\n"
        }
      },
      "source": [
        "# build the RNN network\n",
        "def build(input_shape):\n",
        "    # create model\n",
        "    model = keras.Sequential()\n",
        "\n",
        "    # 2 LSTM layers\n",
        "    model.add(keras.layers.LSTM(64, input_shape=input_shape, return_sequences=True))\n",
        "    model.add(keras.layers.LSTM(64))\n",
        "    \n",
        "    # dense layer\n",
        "    model.add(keras.layers.Dense(64, activation='relu'))\n",
        "    model.add(keras.layers.Dropout(0.3))\n",
        "    \n",
        "    # output layer\n",
        "    model.add(keras.layers.Dense(10, activation='softmax'))\n",
        "\n",
        "    return model"
      ],
      "execution_count": null,
      "outputs": []
    },
    {
      "cell_type": "markdown",
      "metadata": {
        "id": "MdLlKlKubKzt"
      },
      "source": [
        "### 3.3.1 Training/Testing on GTZAN dataset"
      ]
    },
    {
      "cell_type": "code",
      "metadata": {
        "id": "PE0TIHJsbKzu",
        "pycharm": {
          "name": "#%%\n"
        }
      },
      "source": [
        "k_fold_cross_validation(X, y, 2, \"rnn\")"
      ],
      "execution_count": null,
      "outputs": []
    },
    {
      "cell_type": "code",
      "metadata": {
        "id": "-gxXUUCgbKzu",
        "pycharm": {
          "name": "#%%\n"
        }
      },
      "source": [
        "X_train, X_validation, X_test, y_train, y_validation, y_test = prepare_datasets(X, y, 0.25, 0.2)\n",
        "input_shape = (X_train.shape[1], X_train.shape[2])"
      ],
      "execution_count": null,
      "outputs": []
    },
    {
      "cell_type": "code",
      "metadata": {
        "id": "GxQAKf-lbKzu",
        "pycharm": {
          "name": "#%%\n"
        }
      },
      "source": [
        "# build the network\n",
        "model = build(input_shape)\n",
        "\n",
        "# compile the network\n",
        "compile_model(model)"
      ],
      "execution_count": null,
      "outputs": []
    },
    {
      "cell_type": "code",
      "metadata": {
        "id": "-uBvPA_3bKzu",
        "pycharm": {
          "name": "#%%\n"
        }
      },
      "source": [
        "# train CNN\n",
        "history = train(model, X_train, X_validation, y_train, y_validation)"
      ],
      "execution_count": null,
      "outputs": []
    },
    {
      "cell_type": "code",
      "metadata": {
        "id": "9MMlfYNvbKzu",
        "pycharm": {
          "name": "#%%\n"
        }
      },
      "source": [
        "plot_history(history)"
      ],
      "execution_count": null,
      "outputs": []
    },
    {
      "cell_type": "code",
      "metadata": {
        "id": "ZQC8h-DqbKzv",
        "pycharm": {
          "name": "#%%\n"
        }
      },
      "source": [
        "# test CNN\n",
        "test_loss, test_accuracy = test(model, X_test, y_test)\n",
        "    \n",
        "report = get_classification_report(model, X_test, y_test)"
      ],
      "execution_count": null,
      "outputs": []
    },
    {
      "cell_type": "code",
      "metadata": {
        "id": "5iU0hu94bKzw",
        "pycharm": {
          "name": "#%%\n"
        }
      },
      "source": [
        "print(\"Accuracy on test set is: {}\".format(test_accuracy))\n",
        "print(\"Loss on test set is: {}\".format(test_loss))\n",
        "print(report)"
      ],
      "execution_count": null,
      "outputs": []
    },
    {
      "cell_type": "code",
      "metadata": {
        "id": "G0daUdj7bKzw"
      },
      "source": [
        "plot_roc(model, X_test, y_test)"
      ],
      "execution_count": null,
      "outputs": []
    },
    {
      "cell_type": "code",
      "metadata": {
        "id": "h9gj-R4TbKzw"
      },
      "source": [
        "get_confusion_matrix(X_test, y_test, c)"
      ],
      "execution_count": null,
      "outputs": []
    },
    {
      "cell_type": "markdown",
      "metadata": {
        "id": "3MkYg2EqbKzw"
      },
      "source": [
        "### 3.3.2 Training/Testing on clean GTZAN"
      ]
    },
    {
      "cell_type": "code",
      "metadata": {
        "id": "KdkiCfeabKzw",
        "pycharm": {
          "name": "#%%\n"
        }
      },
      "source": [
        "k_fold_cross_validation(clean_X, clean_y, 2, \"rnn\")"
      ],
      "execution_count": null,
      "outputs": []
    },
    {
      "cell_type": "code",
      "metadata": {
        "id": "1YfLnLMdbKzw",
        "pycharm": {
          "name": "#%%\n"
        }
      },
      "source": [
        "X_train, X_validation, X_test, y_train, y_validation, y_test = prepare_datasets(clean_X, clean_y, 0.25, 0.2)\n",
        "input_shape = (X_train.shape[1], X_train.shape[2])"
      ],
      "execution_count": null,
      "outputs": []
    },
    {
      "cell_type": "code",
      "metadata": {
        "id": "XAlHmf9WbKzx",
        "pycharm": {
          "name": "#%%\n"
        }
      },
      "source": [
        "# build the network\n",
        "model = build(input_shape)\n",
        "\n",
        "# compile the network\n",
        "compile_model(model)"
      ],
      "execution_count": null,
      "outputs": []
    },
    {
      "cell_type": "code",
      "metadata": {
        "id": "BM2erl4lbKzy",
        "pycharm": {
          "name": "#%%\n"
        }
      },
      "source": [
        "# train CNN\n",
        "history = train(model, X_train, X_validation, y_train, y_validation)"
      ],
      "execution_count": null,
      "outputs": []
    },
    {
      "cell_type": "code",
      "metadata": {
        "id": "nagrOVM0bKzy",
        "pycharm": {
          "name": "#%%\n"
        }
      },
      "source": [
        "plot_history(history)"
      ],
      "execution_count": null,
      "outputs": []
    },
    {
      "cell_type": "code",
      "metadata": {
        "id": "i19JtHX0bKzy",
        "pycharm": {
          "name": "#%%\n"
        }
      },
      "source": [
        "# test CNN\n",
        "test_loss, test_accuracy = test(model, X_test, y_test)\n",
        "    \n",
        "report = get_classification_report(model, X_test, y_test)"
      ],
      "execution_count": null,
      "outputs": []
    },
    {
      "cell_type": "code",
      "metadata": {
        "id": "qvjtLzh5bKzy",
        "pycharm": {
          "name": "#%%\n"
        }
      },
      "source": [
        "print(\"Accuracy on test set is: {}\".format(test_accuracy))\n",
        "print(\"Loss on test set is: {}\".format(test_loss))\n",
        "print(report)"
      ],
      "execution_count": null,
      "outputs": []
    },
    {
      "cell_type": "code",
      "metadata": {
        "id": "n-0w-l-6bKzy"
      },
      "source": [
        "plot_roc(model, X_test, y_test)"
      ],
      "execution_count": null,
      "outputs": []
    },
    {
      "cell_type": "code",
      "metadata": {
        "id": "GhvyNH-jbKzz"
      },
      "source": [
        "get_confusion_matrix(X_test, y_test, clean_c)"
      ],
      "execution_count": null,
      "outputs": []
    },
    {
      "cell_type": "markdown",
      "metadata": {
        "id": "WL5XpP4YbKzz"
      },
      "source": [
        "### 3.3.3 Training/Testing on our dataset"
      ]
    },
    {
      "cell_type": "code",
      "metadata": {
        "id": "q8pKJP7CbKzz",
        "pycharm": {
          "name": "#%%\n"
        }
      },
      "source": [
        "k_fold_cross_validation(our_X, our_y, 2, \"rnn\")"
      ],
      "execution_count": null,
      "outputs": []
    },
    {
      "cell_type": "code",
      "metadata": {
        "id": "Aby23Cq-bKzz",
        "pycharm": {
          "name": "#%%\n"
        }
      },
      "source": [
        "X_train, X_validation, X_test, y_train, y_validation, y_test = prepare_datasets(our_X, our_y, 0.25, 0.2)\n",
        "input_shape = (X_train.shape[1], X_train.shape[2])"
      ],
      "execution_count": null,
      "outputs": []
    },
    {
      "cell_type": "code",
      "metadata": {
        "id": "WriwmS13bKzz",
        "pycharm": {
          "name": "#%%\n"
        }
      },
      "source": [
        "# build the network\n",
        "model = build(input_shape)\n",
        "\n",
        "# compile the network\n",
        "compile_model(model)"
      ],
      "execution_count": null,
      "outputs": []
    },
    {
      "cell_type": "code",
      "metadata": {
        "id": "7mJRGtFvbKz0",
        "pycharm": {
          "name": "#%%\n"
        }
      },
      "source": [
        "# train CNN\n",
        "history = train(model, X_train, X_validation, y_train, y_validation)"
      ],
      "execution_count": null,
      "outputs": []
    },
    {
      "cell_type": "code",
      "metadata": {
        "id": "wt6-51b4bKz1",
        "pycharm": {
          "name": "#%%\n"
        }
      },
      "source": [
        "plot_history(history)"
      ],
      "execution_count": null,
      "outputs": []
    },
    {
      "cell_type": "code",
      "metadata": {
        "id": "Bpq9LhAvbKz1",
        "pycharm": {
          "name": "#%%\n"
        }
      },
      "source": [
        "# test CNN\n",
        "test_loss, test_accuracy = test(model, X_test, y_test)\n",
        "    \n",
        "report = get_classification_report(model, X_test, y_test)"
      ],
      "execution_count": null,
      "outputs": []
    },
    {
      "cell_type": "code",
      "metadata": {
        "id": "acwO_a2GbKz1",
        "pycharm": {
          "name": "#%%\n"
        }
      },
      "source": [
        "print(\"Accuracy on test set is: {}\".format(test_accuracy))\n",
        "print(\"Loss on test set is: {}\".format(test_loss))\n",
        "print(report)"
      ],
      "execution_count": null,
      "outputs": []
    },
    {
      "cell_type": "code",
      "metadata": {
        "id": "CQhV6CTlbKz1"
      },
      "source": [
        "plot_roc(model, X_test, y_test)"
      ],
      "execution_count": null,
      "outputs": []
    },
    {
      "cell_type": "code",
      "metadata": {
        "id": "OLastnUXbKz2"
      },
      "source": [
        "get_confusion_matrix(X_test, y_test, our_c)"
      ],
      "execution_count": null,
      "outputs": []
    },
    {
      "cell_type": "markdown",
      "metadata": {
        "id": "lRYVFQXtbKz2"
      },
      "source": [
        "# 3.4. Convolutional Recurrent Neural Network"
      ]
    },
    {
      "cell_type": "code",
      "metadata": {
        "id": "catefpNHbKz2",
        "pycharm": {
          "name": "#%%\n"
        }
      },
      "source": [
        "def build(input_shape):\n",
        "    model = keras.Sequential()\n",
        "    \n",
        "    model.add(keras.layers.Conv2D(64, (3,3), activation='elu', padding='same', input_shape=input_shape))\n",
        "    model.add(keras.layers.MaxPool2D((3,3), strides=(2, 2), padding='same')) \n",
        "    model.add(keras.layers.BatchNormalization())\n",
        "    model.add(keras.layers.Dropout(0.1))\n",
        "                                \n",
        "    model.add(keras.layers.Conv2D(128, (3,3), activation='elu', padding='same', input_shape=input_shape))\n",
        "    model.add(keras.layers.MaxPool2D((3,3), strides=(4, 2), padding='same'))\n",
        "    model.add(keras.layers.BatchNormalization())\n",
        "    model.add(keras.layers.Dropout(0.1))\n",
        "    \n",
        "    model.add(keras.layers.Conv2D(128, (3,3), activation='elu', padding='same', input_shape=input_shape))\n",
        "    model.add(keras.layers.MaxPool2D((3,3), strides=(4, 2), padding='same'))\n",
        "    model.add(keras.layers.BatchNormalization())\n",
        "    model.add(keras.layers.Dropout(0.1))\n",
        "    \n",
        "    model.add(keras.layers.Conv2D(128, (3,3), activation='elu', padding='same', input_shape=input_shape))\n",
        "    model.add(keras.layers.MaxPool2D((3,3), strides=(4, 2), padding='same'))\n",
        "    model.add(keras.layers.BatchNormalization())\n",
        "    model.add(keras.layers.Dropout(0.1))\n",
        "    \n",
        "    last_layer = model.layers[-1]\n",
        "    output_shape = last_layer.output_shape\n",
        "    model.add(keras.layers.Reshape((int(output_shape[1]), int(output_shape[2] * output_shape[3]))))\n",
        "    \n",
        "    model.add(keras.layers.Dense(32, activation='elu'))\n",
        "    model.add(keras.layers.GRU(32, dropout=0.3,return_sequences=True))\n",
        "    model.add(keras.layers.GRU(32, dropout=0.3,return_sequences=True))\n",
        "    \n",
        "    model.add(keras.layers.Flatten())\n",
        "    model.add(keras.layers.Dense(10, activation='softmax'))\n",
        "    \n",
        "    return model\n"
      ],
      "execution_count": null,
      "outputs": []
    },
    {
      "cell_type": "markdown",
      "metadata": {
        "id": "LqPWKFybbKz2"
      },
      "source": [
        "### 3.4.1 Training/Testing on GTZAN dataset"
      ]
    },
    {
      "cell_type": "code",
      "metadata": {
        "id": "aFRHJBAwbKz2",
        "pycharm": {
          "name": "#%%\n"
        }
      },
      "source": [
        "k_fold_cross_validation(inputs, y, 2, \"cnn\")"
      ],
      "execution_count": null,
      "outputs": []
    },
    {
      "cell_type": "code",
      "metadata": {
        "id": "9IDJscMdbKz3",
        "pycharm": {
          "name": "#%%\n"
        }
      },
      "source": [
        "X_train, X_validation, X_test, y_train, y_validation, y_test = prepare_datasets(inputs, y, 0.25, 0.2)\n",
        "input_shape = (X_train.shape[1], X_train.shape[2], X_train.shape[3])"
      ],
      "execution_count": null,
      "outputs": []
    },
    {
      "cell_type": "code",
      "metadata": {
        "id": "u0Q4yrSxbKz3",
        "pycharm": {
          "name": "#%%\n"
        }
      },
      "source": [
        "# build the CRNN\n",
        "model = build(input_shape)\n",
        "    \n",
        "# compile the network\n",
        "compile_model(model)"
      ],
      "execution_count": null,
      "outputs": []
    },
    {
      "cell_type": "code",
      "metadata": {
        "id": "-V0cj0d0bKz3",
        "pycharm": {
          "name": "#%%\n"
        }
      },
      "source": [
        "# train CRNN\n",
        "history = train(model, X_train, X_validation, y_train, y_validation)"
      ],
      "execution_count": null,
      "outputs": []
    },
    {
      "cell_type": "code",
      "metadata": {
        "id": "2MPyXFb6bKz3",
        "pycharm": {
          "name": "#%%\n"
        }
      },
      "source": [
        "plot_history(history)"
      ],
      "execution_count": null,
      "outputs": []
    },
    {
      "cell_type": "code",
      "metadata": {
        "id": "UD777WCbbKz4",
        "pycharm": {
          "name": "#%%\n"
        }
      },
      "source": [
        "# test CNN on test set\n",
        "test_loss, test_accuracy = test(model, X_test, y_test)\n",
        "    \n",
        "report = get_classification_report(model, X_test, y_test)"
      ],
      "execution_count": null,
      "outputs": []
    },
    {
      "cell_type": "code",
      "metadata": {
        "id": "t8-6OUUVbKz4",
        "pycharm": {
          "name": "#%%\n"
        }
      },
      "source": [
        "print(\"Accuracy on test set is: {}\".format(test_accuracy))\n",
        "print(\"Loss on test set is: {}\".format(test_loss))\n",
        "print(report)"
      ],
      "execution_count": null,
      "outputs": []
    },
    {
      "cell_type": "code",
      "metadata": {
        "id": "wpVklxKgbKz4"
      },
      "source": [
        "plot_roc(model, X_test, y_test)"
      ],
      "execution_count": null,
      "outputs": []
    },
    {
      "cell_type": "code",
      "metadata": {
        "id": "7oFQJ8opbKz4"
      },
      "source": [
        "get_confusion_matrix(X_test, y_test, c)"
      ],
      "execution_count": null,
      "outputs": []
    },
    {
      "cell_type": "markdown",
      "metadata": {
        "id": "J9UpdXAKbKz4"
      },
      "source": [
        "### 3.4.2 Training/Testing on clean GTZAN"
      ]
    },
    {
      "cell_type": "code",
      "metadata": {
        "id": "ibRlvxBIbKz5",
        "pycharm": {
          "name": "#%%\n"
        }
      },
      "source": [
        "k_fold_cross_validation(clean_inputs, clean_y, 2, \"cnn\")"
      ],
      "execution_count": null,
      "outputs": []
    },
    {
      "cell_type": "code",
      "metadata": {
        "id": "BT-S1-3CbKz5",
        "pycharm": {
          "name": "#%%\n"
        }
      },
      "source": [
        "X_train, X_validation, X_test, y_train, y_validation, y_test = prepare_datasets(clean_inputs, clean_y, 0.25, 0.2)\n",
        "input_shape = (X_train.shape[1], X_train.shape[2], X_train.shape[3])"
      ],
      "execution_count": null,
      "outputs": []
    },
    {
      "cell_type": "code",
      "metadata": {
        "id": "hGgBiKFrbKz5",
        "pycharm": {
          "name": "#%%\n"
        }
      },
      "source": [
        "# build the CRNN\n",
        "model = build(input_shape)\n",
        "    \n",
        "# compile the network\n",
        "compile_model(model)"
      ],
      "execution_count": null,
      "outputs": []
    },
    {
      "cell_type": "code",
      "metadata": {
        "id": "BxoLqaZfbKz5",
        "pycharm": {
          "name": "#%%\n"
        }
      },
      "source": [
        "# train CRNN\n",
        "history = train(model, X_train, X_validation, y_train, y_validation)"
      ],
      "execution_count": null,
      "outputs": []
    },
    {
      "cell_type": "code",
      "metadata": {
        "id": "aa85vhgQbKz5",
        "pycharm": {
          "name": "#%%\n"
        }
      },
      "source": [
        "plot_history(history)"
      ],
      "execution_count": null,
      "outputs": []
    },
    {
      "cell_type": "code",
      "metadata": {
        "id": "cMIlvEmSbKz5",
        "pycharm": {
          "name": "#%%\n"
        }
      },
      "source": [
        "# test CRNN on test set\n",
        "test_loss, test_accuracy = test(model, X_test, y_test)\n",
        "    \n",
        "report = get_classification_report(model, X_test, y_test)"
      ],
      "execution_count": null,
      "outputs": []
    },
    {
      "cell_type": "code",
      "metadata": {
        "id": "rKP8f-nZbKz6",
        "pycharm": {
          "name": "#%%\n"
        },
        "scrolled": true
      },
      "source": [
        "print(\"Accuracy on test set is: {}\".format(test_accuracy))\n",
        "print(\"Loss on test set is: {}\".format(test_loss))\n",
        "print(report)"
      ],
      "execution_count": null,
      "outputs": []
    },
    {
      "cell_type": "code",
      "metadata": {
        "id": "5EcHkxhabKz6"
      },
      "source": [
        "plot_roc(model, X_test, y_test)"
      ],
      "execution_count": null,
      "outputs": []
    },
    {
      "cell_type": "code",
      "metadata": {
        "id": "Y28IUF-3bKz6"
      },
      "source": [
        "get_confusion_matrix(X_test, y_test, clean_c)"
      ],
      "execution_count": null,
      "outputs": []
    },
    {
      "cell_type": "markdown",
      "metadata": {
        "id": "kee5XsacbKz7"
      },
      "source": [
        "### 3.4.3 Training/Testing on our dataset"
      ]
    },
    {
      "cell_type": "code",
      "metadata": {
        "id": "Txhe1YpHbKz7",
        "pycharm": {
          "name": "#%%\n"
        }
      },
      "source": [
        "k_fold_cross_validation(our_inputs, our_y, 2, \"cnn\")"
      ],
      "execution_count": null,
      "outputs": []
    },
    {
      "cell_type": "code",
      "metadata": {
        "id": "nXaD6033bKz7",
        "pycharm": {
          "name": "#%%\n"
        }
      },
      "source": [
        "X_train, X_validation, X_test, y_train, y_validation, y_test = prepare_datasets(our_inputs, our_y, 0.25, 0.2)\n",
        "input_shape = (X_train.shape[1], X_train.shape[2], X_train.shape[3])"
      ],
      "execution_count": null,
      "outputs": []
    },
    {
      "cell_type": "code",
      "metadata": {
        "id": "hsHKek5UbKz7",
        "pycharm": {
          "name": "#%%\n"
        }
      },
      "source": [
        "# build the CRNN\n",
        "model = build(input_shape)\n",
        "    \n",
        "# compile the network\n",
        "compile_model(model)"
      ],
      "execution_count": null,
      "outputs": []
    },
    {
      "cell_type": "code",
      "metadata": {
        "id": "pY7DBPmkbKz7",
        "pycharm": {
          "name": "#%%\n"
        }
      },
      "source": [
        "# train CRNN\n",
        "history = train(model, X_train, X_validation, y_train, y_validation)"
      ],
      "execution_count": null,
      "outputs": []
    },
    {
      "cell_type": "code",
      "metadata": {
        "id": "XCl7HgvBbKz7",
        "pycharm": {
          "name": "#%%\n"
        }
      },
      "source": [
        "plot_history(history)"
      ],
      "execution_count": null,
      "outputs": []
    },
    {
      "cell_type": "code",
      "metadata": {
        "id": "T0CsTrRcbKz7",
        "pycharm": {
          "name": "#%%\n"
        }
      },
      "source": [
        "# test CRNN on test set\n",
        "test_loss, test_accuracy = test(model, X_test, y_test)\n",
        "    \n",
        "report = get_classification_report(model, X_test, y_test)"
      ],
      "execution_count": null,
      "outputs": []
    },
    {
      "cell_type": "code",
      "metadata": {
        "id": "NSnuUNkQbKz7",
        "pycharm": {
          "name": "#%%\n"
        }
      },
      "source": [
        "print(\"Accuracy on test set is: {}\".format(test_accuracy))\n",
        "print(\"Loss on test set is: {}\".format(test_loss))\n",
        "print(report)"
      ],
      "execution_count": null,
      "outputs": []
    },
    {
      "cell_type": "code",
      "metadata": {
        "id": "6FevrjyqbKz8"
      },
      "source": [
        "plot_roc(model, X_test, y_test)"
      ],
      "execution_count": null,
      "outputs": []
    },
    {
      "cell_type": "code",
      "metadata": {
        "id": "wXgF2_4ebKz8"
      },
      "source": [
        "get_confusion_matrix(X_test, y_test, our_c)"
      ],
      "execution_count": null,
      "outputs": []
    }
  ]
}